{
 "cells": [
  {
   "cell_type": "code",
   "execution_count": 4,
   "id": "f361a13e-5b8e-4d8f-9703-e1feb17f8ba7",
   "metadata": {},
   "outputs": [],
   "source": [
    "from __future__ import division, print_function, absolute_import\n",
    "import numpy as np\n",
    "import pandas as pd\n",
    "import math\n",
    "import matplotlib.pyplot as plt\n",
    "from scipy import stats\n",
    "from scipy import signal\n",
    "from scipy.signal import find_peaks"
   ]
  },
  {
   "cell_type": "code",
   "execution_count": 5,
   "id": "f2bf082e-7584-42e1-a1f7-7d504be90b13",
   "metadata": {},
   "outputs": [],
   "source": [
    "def cc_coeff(file_name, col_name1, col_name2, bw, lower, upper, nums):\n",
    "    df = pd.read_excel(file_name)\n",
    "    data1 = df[col_name1].dropna()\n",
    "    data2 = df[col_name2].dropna()\n",
    "    kde1 = gaussian_kde(data1, bw_method=bw)\n",
    "    kde2 = gaussian_kde(data2, bw_method=bw)\n",
    "    x_vals = np.linspace(min(data1.min(), data2.min()) - 1, max(data1.max(), data2.max()) + 1, nums)\n",
    "    density1 = kde1(x_vals)\n",
    "    density2 = kde2(x_vals)\n",
    "    corr_matrix = np.corrcoef(density1, density2)\n",
    "    corr = corr_matrix[0,1]\n",
    "    R_sq = corr**2\n",
    "    return R_sq"
   ]
  },
  {
   "cell_type": "code",
   "execution_count": 234,
   "id": "dee6357b-bec2-4a25-b7c3-4477728567a7",
   "metadata": {},
   "outputs": [
    {
     "data": {
      "text/plain": [
       "np.float64(0.7840917405479677)"
      ]
     },
     "execution_count": 234,
     "metadata": {},
     "output_type": "execute_result"
    }
   ],
   "source": [
    "cc_coeff('ForAgeCalc.xlsx', 'Gilder GS-11', 'RNHW', 0.08, 0, 3000, 500)"
   ]
  },
  {
   "cell_type": "code",
   "execution_count": 137,
   "id": "0af71aec-276e-4ac0-b87d-d014e1372978",
   "metadata": {},
   "outputs": [
    {
     "data": {
      "text/plain": [
       "np.float64(0.6048075019831254)"
      ]
     },
     "execution_count": 137,
     "metadata": {},
     "output_type": "execute_result"
    }
   ],
   "source": [
    "cc_coeff('ForAgeCalc.xlsx', 'Gilder GS-11', 'RNHE', 0.08, 0, 3000, 500)"
   ]
  },
  {
   "cell_type": "code",
   "execution_count": 138,
   "id": "a0fc84a5-5d66-4259-a538-387bf77a55f1",
   "metadata": {},
   "outputs": [
    {
     "data": {
      "text/plain": [
       "np.float64(0.48371570197448144)"
      ]
     },
     "execution_count": 138,
     "metadata": {},
     "output_type": "execute_result"
    }
   ],
   "source": [
    "cc_coeff('ForAgeCalc.xlsx', 'Gilder GS-11', 'NY14-TAP-22', 0.08, 0, 3000, 500)"
   ]
  },
  {
   "cell_type": "code",
   "execution_count": 139,
   "id": "0370bf14-d7ae-482d-901a-8455ed6c1f85",
   "metadata": {},
   "outputs": [
    {
     "data": {
      "text/plain": [
       "np.float64(0.5374248249632846)"
      ]
     },
     "execution_count": 139,
     "metadata": {},
     "output_type": "execute_result"
    }
   ],
   "source": [
    "cc_coeff('ForAgeCalc.xlsx', 'Gilder GS-11', 'E79', 0.08, 0, 3000, 500)"
   ]
  },
  {
   "cell_type": "code",
   "execution_count": 140,
   "id": "48ef2a0a-c3e7-445c-aed8-bfe16ce1d728",
   "metadata": {},
   "outputs": [
    {
     "data": {
      "text/plain": [
       "np.float64(0.7179226124124469)"
      ]
     },
     "execution_count": 140,
     "metadata": {},
     "output_type": "execute_result"
    }
   ],
   "source": [
    "cc_coeff('ForAgeCalc.xlsx', 'Gilder GS-11', 'PB', 0.08, 0, 3000, 500)"
   ]
  },
  {
   "cell_type": "code",
   "execution_count": 141,
   "id": "c1a4e994-fdbb-4220-b307-2eea75459a68",
   "metadata": {},
   "outputs": [
    {
     "data": {
      "text/plain": [
       "np.float64(0.8720890554736798)"
      ]
     },
     "execution_count": 141,
     "metadata": {},
     "output_type": "execute_result"
    }
   ],
   "source": [
    "cc_coeff('ForAgeCalc.xlsx', 'Gilder GS-11', 'FL3', 0.08, 0, 3000, 500)"
   ]
  },
  {
   "cell_type": "code",
   "execution_count": 142,
   "id": "c7cf769b-759a-4cac-91a7-7303cc2ebb59",
   "metadata": {},
   "outputs": [
    {
     "data": {
      "text/plain": [
       "np.float64(0.7294605870430778)"
      ]
     },
     "execution_count": 142,
     "metadata": {},
     "output_type": "execute_result"
    }
   ],
   "source": [
    "cc_coeff('ForAgeCalc.xlsx', 'RNHW', 'RNHE', 0.08, 0, 3000, 500)"
   ]
  },
  {
   "cell_type": "code",
   "execution_count": 143,
   "id": "fb3217be-553a-4b2a-9abc-527b632d12d3",
   "metadata": {},
   "outputs": [
    {
     "data": {
      "text/plain": [
       "np.float64(0.5877984265186234)"
      ]
     },
     "execution_count": 143,
     "metadata": {},
     "output_type": "execute_result"
    }
   ],
   "source": [
    "cc_coeff('ForAgeCalc.xlsx', 'RNHW', 'NY14-TAP-22', 0.08, 0, 3000, 500)"
   ]
  },
  {
   "cell_type": "code",
   "execution_count": 144,
   "id": "655b883e-ebd0-447f-a472-f3a61e982fa5",
   "metadata": {},
   "outputs": [
    {
     "data": {
      "text/plain": [
       "np.float64(0.6006489628558329)"
      ]
     },
     "execution_count": 144,
     "metadata": {},
     "output_type": "execute_result"
    }
   ],
   "source": [
    "cc_coeff('ForAgeCalc.xlsx', 'RNHW', 'E79', 0.08, 0, 3000, 500)"
   ]
  },
  {
   "cell_type": "code",
   "execution_count": 145,
   "id": "0fab251e-6e6a-47e5-9dba-ed17dfdfb2b2",
   "metadata": {},
   "outputs": [
    {
     "data": {
      "text/plain": [
       "np.float64(0.8295846320671033)"
      ]
     },
     "execution_count": 145,
     "metadata": {},
     "output_type": "execute_result"
    }
   ],
   "source": [
    "cc_coeff('ForAgeCalc.xlsx', 'RNHW', 'PB', 0.08, 0, 3000, 500)"
   ]
  },
  {
   "cell_type": "code",
   "execution_count": 146,
   "id": "fc1f2f0f-aba9-4bb7-9d5d-91c2a5f1722f",
   "metadata": {},
   "outputs": [
    {
     "data": {
      "text/plain": [
       "np.float64(0.9118863237292198)"
      ]
     },
     "execution_count": 146,
     "metadata": {},
     "output_type": "execute_result"
    }
   ],
   "source": [
    "cc_coeff('ForAgeCalc.xlsx', 'RNHW', 'FL3', 0.08, 0, 3000, 500)"
   ]
  },
  {
   "cell_type": "code",
   "execution_count": 147,
   "id": "5b171167-a846-4a05-9c3c-ac652b862ab9",
   "metadata": {},
   "outputs": [
    {
     "data": {
      "text/plain": [
       "np.float64(0.3465735955771297)"
      ]
     },
     "execution_count": 147,
     "metadata": {},
     "output_type": "execute_result"
    }
   ],
   "source": [
    "cc_coeff('ForAgeCalc.xlsx', 'RNHE', 'NY14-TAP-22', 0.08, 0, 3000, 500)"
   ]
  },
  {
   "cell_type": "code",
   "execution_count": 148,
   "id": "29b61085-0649-4509-b6f1-17339b8b6753",
   "metadata": {},
   "outputs": [
    {
     "data": {
      "text/plain": [
       "np.float64(0.7678304389198257)"
      ]
     },
     "execution_count": 148,
     "metadata": {},
     "output_type": "execute_result"
    }
   ],
   "source": [
    "cc_coeff('ForAgeCalc.xlsx', 'RNHE', 'E79', 0.08, 0, 3000, 500)"
   ]
  },
  {
   "cell_type": "code",
   "execution_count": 149,
   "id": "cbaf5b40-b36a-4209-8226-1ef68405ca92",
   "metadata": {},
   "outputs": [
    {
     "data": {
      "text/plain": [
       "np.float64(0.6174055282957762)"
      ]
     },
     "execution_count": 149,
     "metadata": {},
     "output_type": "execute_result"
    }
   ],
   "source": [
    "cc_coeff('ForAgeCalc.xlsx', 'RNHE', 'PB', 0.08, 0, 3000, 500)"
   ]
  },
  {
   "cell_type": "code",
   "execution_count": 150,
   "id": "11391e8c-cc4f-48f1-97b4-561da56e18ec",
   "metadata": {},
   "outputs": [
    {
     "data": {
      "text/plain": [
       "np.float64(0.693005801473963)"
      ]
     },
     "execution_count": 150,
     "metadata": {},
     "output_type": "execute_result"
    }
   ],
   "source": [
    "cc_coeff('ForAgeCalc.xlsx', 'RNHE', 'FL3', 0.08, 0, 3000, 500)"
   ]
  },
  {
   "cell_type": "code",
   "execution_count": 151,
   "id": "66df0f4f-f95c-4dd8-ac1e-08b86e5e59fd",
   "metadata": {},
   "outputs": [
    {
     "data": {
      "text/plain": [
       "np.float64(0.31131606992000194)"
      ]
     },
     "execution_count": 151,
     "metadata": {},
     "output_type": "execute_result"
    }
   ],
   "source": [
    "cc_coeff('ForAgeCalc.xlsx', 'NY14-TAP-22', 'E79', 0.08, 0, 3000, 500)"
   ]
  },
  {
   "cell_type": "code",
   "execution_count": 152,
   "id": "2e093d4e-b8c0-44e3-be9e-dbb97431962b",
   "metadata": {},
   "outputs": [
    {
     "data": {
      "text/plain": [
       "np.float64(0.5777803667282305)"
      ]
     },
     "execution_count": 152,
     "metadata": {},
     "output_type": "execute_result"
    }
   ],
   "source": [
    "cc_coeff('ForAgeCalc.xlsx', 'NY14-TAP-22', 'PB', 0.08, 0, 3000, 500)"
   ]
  },
  {
   "cell_type": "code",
   "execution_count": 153,
   "id": "b73ed7f1-c263-4774-be86-2c31c32ced59",
   "metadata": {},
   "outputs": [
    {
     "data": {
      "text/plain": [
       "np.float64(0.6210914996496718)"
      ]
     },
     "execution_count": 153,
     "metadata": {},
     "output_type": "execute_result"
    }
   ],
   "source": [
    "cc_coeff('ForAgeCalc.xlsx', 'NY14-TAP-22', 'FL3', 0.08, 0, 3000, 500)"
   ]
  },
  {
   "cell_type": "code",
   "execution_count": 154,
   "id": "2f403c69-f7fc-4405-861a-9f2878603c13",
   "metadata": {},
   "outputs": [
    {
     "data": {
      "text/plain": [
       "np.float64(0.5757553164545933)"
      ]
     },
     "execution_count": 154,
     "metadata": {},
     "output_type": "execute_result"
    }
   ],
   "source": [
    "cc_coeff('ForAgeCalc.xlsx', 'E79', 'PB', 0.08, 0, 3000, 500)"
   ]
  },
  {
   "cell_type": "code",
   "execution_count": 155,
   "id": "a5d409d3-77ed-400d-a110-6d149a16d444",
   "metadata": {},
   "outputs": [
    {
     "data": {
      "text/plain": [
       "np.float64(0.5948811754519838)"
      ]
     },
     "execution_count": 155,
     "metadata": {},
     "output_type": "execute_result"
    }
   ],
   "source": [
    "cc_coeff('ForAgeCalc.xlsx', 'E79', 'FL3', 0.08, 0, 3000, 500)"
   ]
  },
  {
   "cell_type": "code",
   "execution_count": 156,
   "id": "2c4717c2-26c0-4d4d-b722-fdffaef781eb",
   "metadata": {},
   "outputs": [
    {
     "data": {
      "text/plain": [
       "np.float64(0.787990798213025)"
      ]
     },
     "execution_count": 156,
     "metadata": {},
     "output_type": "execute_result"
    }
   ],
   "source": [
    "cc_coeff('ForAgeCalc.xlsx', 'PB', 'FL3', 0.08, 0, 3000, 500)"
   ]
  },
  {
   "cell_type": "code",
   "execution_count": 157,
   "id": "6f888c1b-96b9-4425-81e0-cc8abb592d5d",
   "metadata": {},
   "outputs": [],
   "source": [
    "# Updated cross-correlation coefficient function!\n",
    "def cc_coeff_updated(file_name, col_name1, col_name2, bw, lower, upper, nums):\n",
    "    df = pd.read_excel(file_name)\n",
    "    data1 = df[col_name1].dropna()\n",
    "    data2 = df[col_name2].dropna()\n",
    "    \n",
    "    kde1 = gaussian_kde(data1, bw_method=bw)\n",
    "    kde2 = gaussian_kde(data2, bw_method=bw)\n",
    "    x_vals = np.linspace(min(data1.min(), data2.min()) - 1, max(data1.max(), data2.max()) + 1, nums)\n",
    "    density1 = kde1(x_vals)\n",
    "    density2 = kde2(x_vals)\n",
    "    corr_matrix = np.corrcoef(density1, density2)\n",
    "    corr = corr_matrix[0,1]\n",
    "    R_sq = corr**2\n",
    "    return R_sq"
   ]
  },
  {
   "cell_type": "code",
   "execution_count": 158,
   "id": "2b6ef8d9-f1a9-4886-b4dc-404bb4736d6f",
   "metadata": {},
   "outputs": [
    {
     "data": {
      "text/plain": [
       "np.float64(0.7840917405479677)"
      ]
     },
     "execution_count": 158,
     "metadata": {},
     "output_type": "execute_result"
    }
   ],
   "source": [
    "cc_coeff_updated('ForAgeCalc.xlsx', 'Gilder GS-11', 'RNHW', 0.08, 0, 3000, 500)"
   ]
  },
  {
   "cell_type": "code",
   "execution_count": 159,
   "id": "66703338-915b-46d6-88d1-83ed584aa3cf",
   "metadata": {},
   "outputs": [
    {
     "data": {
      "text/plain": [
       "np.float64(0.6048075019831254)"
      ]
     },
     "execution_count": 159,
     "metadata": {},
     "output_type": "execute_result"
    }
   ],
   "source": [
    "cc_coeff_updated('ForAgeCalc.xlsx', 'Gilder GS-11', 'RNHE', 0.08, 0, 3000, 500)"
   ]
  },
  {
   "cell_type": "code",
   "execution_count": 6,
   "id": "e1fec196-0d8b-46a5-a808-f1033f1793b2",
   "metadata": {},
   "outputs": [],
   "source": [
    "def K(x, xi, h):\n",
    "    return np.exp(-0.5*((x - xi)**2) / (h**2))* (1/(h*np.sqrt(2*np.pi)))\n",
    "\n",
    "def cc_coeff_fin(file_name, col_name1, col_name2, c, lower, upper, nums):\n",
    "    df = pd.read_excel(file_name)\n",
    "    column_list = df.columns.tolist()\n",
    "    required_cols = [col_name1, col_name2, col_name1 + ' Error', col_name2 + ' Error']\n",
    "    if not all(col in column_list for col in required_cols):\n",
    "        return None\n",
    "    \n",
    "    column_duet = [col_name1, col_name2]\n",
    "    error1 = col_name1 + ' Error'\n",
    "    error2 = col_name2 + ' Error'\n",
    "    error_duet = [error1, error2]\n",
    "    new_list = []\n",
    "    \n",
    "    for col, err in zip(column_duet, error_duet):\n",
    "        mask = ~np.isnan(df[col]) & ~np.isnan(df[err])\n",
    "        data = df[col][mask]\n",
    "        errors = df[err][mask]\n",
    "\n",
    "        if len(data) == 0:\n",
    "            return None\n",
    "\n",
    "        error_max = np.max(errors)\n",
    "        x_vals = np.linspace(lower, upper, nums)\n",
    "        total_sum = np.zeros_like(x_vals)\n",
    "\n",
    "        for xi, e in zip(data, errors):\n",
    "            h_squared = (c * error_max)**2 - e**2\n",
    "            if h_squared <= 0:\n",
    "                continue\n",
    "            h = np.sqrt(h_squared)\n",
    "            total_sum += K(x_vals, xi, h)\n",
    "        \n",
    "        y_vals = total_sum / len(data)\n",
    "        new_list.append(y_vals)\n",
    "    \n",
    "    corr_matrix = np.corrcoef(new_list[0], new_list[1])\n",
    "    corr = corr_matrix[0,1]\n",
    "    R_sq = corr**2\n",
    "    return R_sq"
   ]
  },
  {
   "cell_type": "code",
   "execution_count": 65,
   "id": "43a5475f-e2aa-42be-8252-7305e03815ec",
   "metadata": {},
   "outputs": [],
   "source": [
    "def K(x, xi, h):\n",
    "    return np.exp(-0.5*((x - xi)**2) / (h**2))* (1/(h*np.sqrt(2*np.pi)))\n",
    "\n",
    "def kde_calc_plot(file_name, width, height, c, lower, upper, nums, num_bins, color_list, hist_input, kde_input, save=False,\n",
    "                 single_data=False, single_dname=None, plot=True, return_y=False):\n",
    "    # Creates a pandas data frame from an excel file and a specified column\n",
    "    df = pd.read_excel(file_name)\n",
    "\n",
    "    if single_data == True:\n",
    "        new_list = [single_dname]\n",
    "        color_list = [color_list[0]]\n",
    "        error_list = [single_dname + ' Error']\n",
    "    else:\n",
    "        # Creates a list of the columns in the data frame\n",
    "        column_list = df.columns.tolist()\n",
    "        # List comprehension creating a list of the non-error columns in the data frame\n",
    "        new_list = [column for column in column_list if 'Error' not in column]\n",
    "        # List comprehension creating a list of the error columns in the data frame\n",
    "        error_list = [column for column in column_list if 'Error' in column]\n",
    "\n",
    "    # Provides length of new_list; used later on during plotting\n",
    "    num_samples = len(new_list)\n",
    "    counter = 0\n",
    "\n",
    "    if plot == True:\n",
    "        fig, ax = plt.subplots(len(new_list), 1, figsize=(width, height))\n",
    "        plt.subplots_adjust(wspace = 0.5, hspace = 0.5)\n",
    "    \n",
    "    # Joins corresponding values in new_list, color_list, and error_list and iterates through them\n",
    "    for column, the_color, error_col in zip(new_list, color_list, error_list):\n",
    "        mask = ~np.isnan(df[column]) & ~np.isnan(df[error_col])\n",
    "        # Eliminates all NaN entries in a specified non-error column of the data frame\n",
    "        data = df[column][mask]\n",
    "        # Eliminates all NaN entries in a specified error column of the data frame\n",
    "        errors = df[error_col][mask]\n",
    "        # Finds the maximum value of the error values in error_list\n",
    "        error_max = max(errors)\n",
    "        # Creates an array of evenly spaced numbers over a specified interval\n",
    "        x_vals = np.linspace(lower, upper, nums)\n",
    "        # Returns an all-zero array with the same shape and data type as the input\n",
    "        total_sum = np.zeros_like(x_vals)\n",
    "        # Sets up subplots and specifies their size\n",
    "    \n",
    "        # Joins corresponding xi and e values in data and errors and iterates through them\n",
    "        for xi, e in zip(data, errors):\n",
    "            # Sets the bandwidth (h) equal to the square root of error_max times by a c-value slightly greater than 1\n",
    "            # squared minus e squared\n",
    "            h = np.sqrt((c*error_max)**2 - (e)**2)\n",
    "            # Runs x_vals - xi divided by h through the previously defined KDE function\n",
    "            # Adds the result of this calculation to the array in total_sum\n",
    "            total_sum += K(x_vals, xi, h)\n",
    "        # Completes the KDE function by dividing total_sum by h times the number of data points in the column\n",
    "        y_vals = total_sum/len(data)\n",
    "\n",
    "        if plot == True:\n",
    "            # Plots histogram and KDE\n",
    "            if hist_input == True and kde_input == True:\n",
    "                if single_data == True:\n",
    "                    ax = [ax]\n",
    "                ax[counter].plot(x_vals, y_vals, color='black')\n",
    "                \n",
    "                peaks, _ = find_peaks(y_vals, distance=20)\n",
    "                ax[counter].plot(x_vals[peaks], y_vals[peaks], 'x', color='gray')\n",
    "                peak_vals = x_vals[peaks].tolist()\n",
    "                cell_vals = []\n",
    "\n",
    "                for val in peak_vals:\n",
    "                    new_val = round(val)\n",
    "                    cell_vals.append(new_val)\n",
    "                    \n",
    "                for val1, val2, val3 in zip(cell_vals, x_vals[peaks], y_vals[peaks]):\n",
    "                    ax[counter].annotate(f'{val1}', (val2, val3))\n",
    "                    \n",
    "                ax[counter].hist(df[column], color=the_color, edgecolor='white', bins=range(lower, upper, num_bins), density=True)\n",
    "                ax[counter].text(0.05, 0.8, column + ' (n = ' + str(len(data)) + ')', transform=ax[counter].transAxes)\n",
    "                \n",
    "            # Plots only KDE\n",
    "            elif kde_input == True:\n",
    "                if single_data == True:\n",
    "                    ax = [ax]\n",
    "                ax[counter].plot(x_vals, y_vals, color=the_color)\n",
    "                \n",
    "                peaks, _ = find_peaks(y_vals, distance = 20)\n",
    "                ax[counter].plot(x_vals[peaks], y_vals[peaks], 'x', color='gray')\n",
    "                peak_vals = x_vals[peaks].tolist()\n",
    "                cell_vals = []\n",
    "                \n",
    "                for val in peak_vals:\n",
    "                    new_val = round(val)\n",
    "                    cell_vals.append(new_val)\n",
    "                    \n",
    "                for val1, val2, val3 in zip(cell_vals, x_vals[peaks], y_vals[peaks]):\n",
    "                    ax[counter].annotate(f'{val1}', (val2, val3))\n",
    "                \n",
    "                ax[counter].text(0.05, 0.8, column + ' (n = ' + str(len(data)) + ')', transform=ax[counter].transAxes)\n",
    "            \n",
    "            # Plots only histogram\n",
    "            elif hist_input == True:\n",
    "                if single_data == True:\n",
    "                    ax = [ax]\n",
    "                ax.hist(df[column], color=the_color, edgecolor='white', bins=range(lower, upper, num_bins), density=True)\n",
    "                ax.text(0.05, 0.8, column + ' (n = ' + str(len(data)) + ')', transform=ax[counter].transAxes)\n",
    "            \n",
    "            counter += 1\n",
    "            \n",
    "    # Labels x-axis\n",
    "    if plot == True:\n",
    "        plt.xlabel('Age (Ma)')\n",
    "        \n",
    "    # Saves final graphs as pngs\n",
    "    if save == True:\n",
    "        print('working')\n",
    "        plt.savefig('c-'+str(c).split('.')[1]+'.png', dpi=400, bbox_inches='tight')\n",
    "\n",
    "    # Shows final graphs\n",
    "    plt.show()\n",
    "\n",
    "    if return_y == True:\n",
    "        return y_vals"
   ]
  },
  {
   "cell_type": "code",
   "execution_count": 66,
   "id": "1162cb65-994d-4725-a980-6d3e51b7c0ec",
   "metadata": {},
   "outputs": [],
   "source": [
    "# Finalized version of cross-correlation coefficient statistical test\n",
    "def cc_coeff_final(file_name, col_name1, col_name2, c, lower, upper, nums):\n",
    "    kde1 = kde_calc_plot(file_name, 0, 0, c, lower, upper, nums, 0, ['black'], False, True, False, True, col_name1, False, True)\n",
    "    kde2 = kde_calc_plot(file_name, 0, 0, c, lower, upper, nums, 0, ['black'], False, True, False, True, col_name2, False, True)\n",
    "    new_list = [kde1, kde2]\n",
    "    corr_matrix = np.corrcoef(new_list[0], new_list[1])\n",
    "    corr = corr_matrix[0,1]\n",
    "    R_sq = corr**2\n",
    "    return R_sq"
   ]
  },
  {
   "cell_type": "code",
   "execution_count": 88,
   "id": "b01318d9-1fcd-49b8-969c-ba4212474118",
   "metadata": {},
   "outputs": [
    {
     "data": {
      "text/plain": [
       "np.float64(0.8714353085417421)"
      ]
     },
     "execution_count": 88,
     "metadata": {},
     "output_type": "execute_result"
    }
   ],
   "source": [
    "cc_coeff_final('ForAgeCalc.xlsx', 'Gilder GS-11', 'RNHW', 1.04, 0, 3000, 1000)"
   ]
  },
  {
   "cell_type": "code",
   "execution_count": 89,
   "id": "225f86ae-74c9-4e97-ac9d-194cf0936047",
   "metadata": {},
   "outputs": [
    {
     "data": {
      "text/plain": [
       "np.float64(0.7859462027243965)"
      ]
     },
     "execution_count": 89,
     "metadata": {},
     "output_type": "execute_result"
    }
   ],
   "source": [
    "cc_coeff_final('ForAgeCalc.xlsx', 'Gilder GS-11', 'RNHE', 1.04, 0, 3000, 1000)"
   ]
  },
  {
   "cell_type": "code",
   "execution_count": 90,
   "id": "7c78a78d-74af-4d9c-b864-582c623adf5f",
   "metadata": {},
   "outputs": [
    {
     "data": {
      "text/plain": [
       "np.float64(0.6820036720954676)"
      ]
     },
     "execution_count": 90,
     "metadata": {},
     "output_type": "execute_result"
    }
   ],
   "source": [
    "cc_coeff_final('ForAgeCalc.xlsx', 'Gilder GS-11', 'NY14-TAP-22', 1.04, 0, 3000, 1000)"
   ]
  },
  {
   "cell_type": "code",
   "execution_count": 91,
   "id": "f04cb299-1a0f-4b96-8069-a0e55edc6ab4",
   "metadata": {},
   "outputs": [
    {
     "data": {
      "text/plain": [
       "np.float64(0.6775393494147924)"
      ]
     },
     "execution_count": 91,
     "metadata": {},
     "output_type": "execute_result"
    }
   ],
   "source": [
    "cc_coeff_final('ForAgeCalc.xlsx', 'Gilder GS-11', 'E79', 1.04, 0, 3000, 1000)"
   ]
  },
  {
   "cell_type": "code",
   "execution_count": 92,
   "id": "f0263d74-f0ec-4c50-9531-6489ef30a661",
   "metadata": {},
   "outputs": [
    {
     "data": {
      "text/plain": [
       "np.float64(0.9921798576767134)"
      ]
     },
     "execution_count": 92,
     "metadata": {},
     "output_type": "execute_result"
    }
   ],
   "source": [
    "cc_coeff_final('ForAgeCalc.xlsx', 'Gilder GS-11', 'PB', 1.04, 0, 3000, 1000)"
   ]
  },
  {
   "cell_type": "code",
   "execution_count": 93,
   "id": "05c4e24e-37eb-491e-88bd-27788c97741c",
   "metadata": {},
   "outputs": [
    {
     "data": {
      "text/plain": [
       "np.float64(0.9160836521813369)"
      ]
     },
     "execution_count": 93,
     "metadata": {},
     "output_type": "execute_result"
    }
   ],
   "source": [
    "cc_coeff_final('ForAgeCalc.xlsx', 'Gilder GS-11', 'FL3', 1.04, 0, 3000, 1000)"
   ]
  },
  {
   "cell_type": "code",
   "execution_count": 94,
   "id": "98fb981b-df98-4ee8-80c8-f10d0cc8ea48",
   "metadata": {},
   "outputs": [
    {
     "data": {
      "text/plain": [
       "np.float64(0.9623879504940211)"
      ]
     },
     "execution_count": 94,
     "metadata": {},
     "output_type": "execute_result"
    }
   ],
   "source": [
    "cc_coeff_final('ForAgeCalc.xlsx', 'RNHW', 'RNHE', 1.04, 0, 3000, 1000)"
   ]
  },
  {
   "cell_type": "code",
   "execution_count": 95,
   "id": "05246e4c-8443-4e58-b543-d1723f0064d3",
   "metadata": {},
   "outputs": [
    {
     "data": {
      "text/plain": [
       "np.float64(0.5398822051262827)"
      ]
     },
     "execution_count": 95,
     "metadata": {},
     "output_type": "execute_result"
    }
   ],
   "source": [
    "cc_coeff_final('ForAgeCalc.xlsx', 'RNHW', 'NY14-TAP-22', 1.04, 0, 3000, 1000)"
   ]
  },
  {
   "cell_type": "code",
   "execution_count": 96,
   "id": "ea9822c5-548e-4cf9-8669-06b33eb69c61",
   "metadata": {},
   "outputs": [
    {
     "data": {
      "text/plain": [
       "np.float64(0.9220340224527764)"
      ]
     },
     "execution_count": 96,
     "metadata": {},
     "output_type": "execute_result"
    }
   ],
   "source": [
    "cc_coeff_final('ForAgeCalc.xlsx', 'RNHW', 'E79', 1.04, 0, 3000, 1000)"
   ]
  },
  {
   "cell_type": "code",
   "execution_count": 97,
   "id": "a40cf84a-9459-442a-a777-dbc0c76eb1f2",
   "metadata": {},
   "outputs": [
    {
     "data": {
      "text/plain": [
       "np.float64(0.9153469101891973)"
      ]
     },
     "execution_count": 97,
     "metadata": {},
     "output_type": "execute_result"
    }
   ],
   "source": [
    "cc_coeff_final('ForAgeCalc.xlsx', 'RNHW', 'PB', 1.04, 0, 3000, 1000)"
   ]
  },
  {
   "cell_type": "code",
   "execution_count": 98,
   "id": "5b4fcdc6-b3d2-4b0d-8cff-0be62ca6ee0b",
   "metadata": {},
   "outputs": [
    {
     "data": {
      "text/plain": [
       "np.float64(0.7211994840459286)"
      ]
     },
     "execution_count": 98,
     "metadata": {},
     "output_type": "execute_result"
    }
   ],
   "source": [
    "cc_coeff_final('ForAgeCalc.xlsx', 'RNHW', 'FL3', 1.04, 0, 3000, 1000)"
   ]
  },
  {
   "cell_type": "code",
   "execution_count": 99,
   "id": "c02eab6b-6dd2-4a11-8a83-889240f73def",
   "metadata": {},
   "outputs": [
    {
     "data": {
      "text/plain": [
       "np.float64(0.4185581858751908)"
      ]
     },
     "execution_count": 99,
     "metadata": {},
     "output_type": "execute_result"
    }
   ],
   "source": [
    "cc_coeff_final('ForAgeCalc.xlsx', 'RNHE', 'NY14-TAP-22', 1.04, 0, 3000, 1000)"
   ]
  },
  {
   "cell_type": "code",
   "execution_count": 100,
   "id": "e5375bcd-793c-428f-87be-86d9fbde2c95",
   "metadata": {},
   "outputs": [
    {
     "data": {
      "text/plain": [
       "np.float64(0.9713164824028879)"
      ]
     },
     "execution_count": 100,
     "metadata": {},
     "output_type": "execute_result"
    }
   ],
   "source": [
    "cc_coeff_final('ForAgeCalc.xlsx', 'RNHE', 'E79', 1.04, 0, 3000, 1000)"
   ]
  },
  {
   "cell_type": "code",
   "execution_count": 101,
   "id": "bda3d1b3-57fe-41c8-9b9e-5d7b1c976ab4",
   "metadata": {},
   "outputs": [
    {
     "data": {
      "text/plain": [
       "np.float64(0.8431504802967613)"
      ]
     },
     "execution_count": 101,
     "metadata": {},
     "output_type": "execute_result"
    }
   ],
   "source": [
    "cc_coeff_final('ForAgeCalc.xlsx', 'RNHE', 'PB', 1.04, 0, 3000, 1000)"
   ]
  },
  {
   "cell_type": "code",
   "execution_count": 102,
   "id": "a57a39b1-5f83-40ce-ab77-bdbead8b47eb",
   "metadata": {},
   "outputs": [
    {
     "data": {
      "text/plain": [
       "np.float64(0.6607504105453244)"
      ]
     },
     "execution_count": 102,
     "metadata": {},
     "output_type": "execute_result"
    }
   ],
   "source": [
    "cc_coeff_final('ForAgeCalc.xlsx', 'RNHE', 'FL3', 1.04, 0, 3000, 1000)"
   ]
  },
  {
   "cell_type": "code",
   "execution_count": 103,
   "id": "bb858993-4167-4020-8516-1d75c95254be",
   "metadata": {},
   "outputs": [
    {
     "data": {
      "text/plain": [
       "np.float64(0.35239834330412606)"
      ]
     },
     "execution_count": 103,
     "metadata": {},
     "output_type": "execute_result"
    }
   ],
   "source": [
    "cc_coeff_final('ForAgeCalc.xlsx', 'NY14-TAP-22', 'E79', 1.04, 0, 3000, 1000)"
   ]
  },
  {
   "cell_type": "code",
   "execution_count": 104,
   "id": "aface879-2833-4db0-b8db-a6b8fbecd9f0",
   "metadata": {},
   "outputs": [
    {
     "data": {
      "text/plain": [
       "np.float64(0.6619834448364271)"
      ]
     },
     "execution_count": 104,
     "metadata": {},
     "output_type": "execute_result"
    }
   ],
   "source": [
    "cc_coeff_final('ForAgeCalc.xlsx', 'NY14-TAP-22', 'PB', 1.04, 0, 3000, 1000)"
   ]
  },
  {
   "cell_type": "code",
   "execution_count": 105,
   "id": "c4ced63f-ef5a-4565-b825-6baa85f3900f",
   "metadata": {},
   "outputs": [
    {
     "data": {
      "text/plain": [
       "np.float64(0.7007920063787744)"
      ]
     },
     "execution_count": 105,
     "metadata": {},
     "output_type": "execute_result"
    }
   ],
   "source": [
    "cc_coeff_final('ForAgeCalc.xlsx', 'NY14-TAP-22', 'FL3', 1.04, 0, 3000, 1000)"
   ]
  },
  {
   "cell_type": "code",
   "execution_count": 106,
   "id": "7d94178a-f23d-41e2-a65f-46e299dcbcbe",
   "metadata": {},
   "outputs": [
    {
     "data": {
      "text/plain": [
       "np.float64(0.7393181171386527)"
      ]
     },
     "execution_count": 106,
     "metadata": {},
     "output_type": "execute_result"
    }
   ],
   "source": [
    "cc_coeff_final('ForAgeCalc.xlsx', 'E79', 'PB', 1.04, 0, 3000, 1000)"
   ]
  },
  {
   "cell_type": "code",
   "execution_count": 107,
   "id": "45a8dec5-19d5-49d8-b9e8-6d79bc2d00ac",
   "metadata": {},
   "outputs": [
    {
     "data": {
      "text/plain": [
       "np.float64(0.5465378277031648)"
      ]
     },
     "execution_count": 107,
     "metadata": {},
     "output_type": "execute_result"
    }
   ],
   "source": [
    "cc_coeff_final('ForAgeCalc.xlsx', 'E79', 'FL3', 1.04, 0, 3000, 1000)"
   ]
  },
  {
   "cell_type": "code",
   "execution_count": 108,
   "id": "1b9f872c-8a08-4c3b-9639-dde345d08fc4",
   "metadata": {},
   "outputs": [
    {
     "data": {
      "text/plain": [
       "np.float64(0.9008536577290552)"
      ]
     },
     "execution_count": 108,
     "metadata": {},
     "output_type": "execute_result"
    }
   ],
   "source": [
    "cc_coeff_final('ForAgeCalc.xlsx', 'PB', 'FL3', 1.04, 0, 3000, 1000)"
   ]
  }
 ],
 "metadata": {
  "kernelspec": {
   "display_name": "Python 3 (ipykernel)",
   "language": "python",
   "name": "python3"
  },
  "language_info": {
   "codemirror_mode": {
    "name": "ipython",
    "version": 3
   },
   "file_extension": ".py",
   "mimetype": "text/x-python",
   "name": "python",
   "nbconvert_exporter": "python",
   "pygments_lexer": "ipython3",
   "version": "3.13.3"
  }
 },
 "nbformat": 4,
 "nbformat_minor": 5
}
