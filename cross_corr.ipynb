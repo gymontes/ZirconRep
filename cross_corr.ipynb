{
 "cells": [
  {
   "cell_type": "code",
   "execution_count": 108,
   "id": "f361a13e-5b8e-4d8f-9703-e1feb17f8ba7",
   "metadata": {},
   "outputs": [],
   "source": [
    "from scipy import stats\n",
    "from scipy.stats import gaussian_kde\n",
    "from scipy import signal\n",
    "from scipy.signal import correlate\n",
    "import numpy as np\n",
    "import matplotlib.pyplot as plt\n",
    "import pandas as pd"
   ]
  },
  {
   "cell_type": "code",
   "execution_count": 110,
   "id": "f2bf082e-7584-42e1-a1f7-7d504be90b13",
   "metadata": {},
   "outputs": [],
   "source": [
    "def cc_coeff(file_name, col_name1, col_name2, bw, lower, upper, nums):\n",
    "    df = pd.read_excel(file_name)\n",
    "    data1 = df[col_name1].dropna()\n",
    "    data2 = df[col_name2].dropna()\n",
    "    kde1 = gaussian_kde(data1, bw_method=bw)\n",
    "    kde2 = gaussian_kde(data2, bw_method=bw)\n",
    "    x_vals = np.linspace(min(data1.min(), data2.min()) - 1, max(data1.max(), data2.max()) + 1, nums)\n",
    "    density1 = kde1(x_vals)\n",
    "    density2 = kde2(x_vals)\n",
    "    corr_matrix = np.corrcoef(density1, density2)\n",
    "    corr = corr_matrix[0,1]\n",
    "    R_sq = corr**2\n",
    "    return R_sq"
   ]
  },
  {
   "cell_type": "code",
   "execution_count": 111,
   "id": "dee6357b-bec2-4a25-b7c3-4477728567a7",
   "metadata": {},
   "outputs": [
    {
     "data": {
      "text/plain": [
       "np.float64(0.7840917405479677)"
      ]
     },
     "execution_count": 111,
     "metadata": {},
     "output_type": "execute_result"
    }
   ],
   "source": [
    "cc_coeff('ForAgeCalc.xlsx', 'Gilder GS-11', 'RNHW', 0.08, 0, 3000, 500)"
   ]
  },
  {
   "cell_type": "code",
   "execution_count": 112,
   "id": "0af71aec-276e-4ac0-b87d-d014e1372978",
   "metadata": {},
   "outputs": [
    {
     "data": {
      "text/plain": [
       "np.float64(0.6048075019831254)"
      ]
     },
     "execution_count": 112,
     "metadata": {},
     "output_type": "execute_result"
    }
   ],
   "source": [
    "cc_coeff('ForAgeCalc.xlsx', 'Gilder GS-11', 'RNHE', 0.08, 0, 3000, 500)"
   ]
  },
  {
   "cell_type": "code",
   "execution_count": 113,
   "id": "a0fc84a5-5d66-4259-a538-387bf77a55f1",
   "metadata": {},
   "outputs": [
    {
     "data": {
      "text/plain": [
       "np.float64(0.48371570197448144)"
      ]
     },
     "execution_count": 113,
     "metadata": {},
     "output_type": "execute_result"
    }
   ],
   "source": [
    "cc_coeff('ForAgeCalc.xlsx', 'Gilder GS-11', 'NY14-TAP-22', 0.08, 0, 3000, 500)"
   ]
  },
  {
   "cell_type": "code",
   "execution_count": 114,
   "id": "0370bf14-d7ae-482d-901a-8455ed6c1f85",
   "metadata": {},
   "outputs": [
    {
     "data": {
      "text/plain": [
       "np.float64(0.5374248249632846)"
      ]
     },
     "execution_count": 114,
     "metadata": {},
     "output_type": "execute_result"
    }
   ],
   "source": [
    "cc_coeff('ForAgeCalc.xlsx', 'Gilder GS-11', 'E79', 0.08, 0, 3000, 500)"
   ]
  },
  {
   "cell_type": "code",
   "execution_count": 115,
   "id": "48ef2a0a-c3e7-445c-aed8-bfe16ce1d728",
   "metadata": {},
   "outputs": [
    {
     "data": {
      "text/plain": [
       "np.float64(0.7179226124124469)"
      ]
     },
     "execution_count": 115,
     "metadata": {},
     "output_type": "execute_result"
    }
   ],
   "source": [
    "cc_coeff('ForAgeCalc.xlsx', 'Gilder GS-11', 'PB', 0.08, 0, 3000, 500)"
   ]
  },
  {
   "cell_type": "code",
   "execution_count": 116,
   "id": "c1a4e994-fdbb-4220-b307-2eea75459a68",
   "metadata": {},
   "outputs": [
    {
     "data": {
      "text/plain": [
       "np.float64(0.8720890554736798)"
      ]
     },
     "execution_count": 116,
     "metadata": {},
     "output_type": "execute_result"
    }
   ],
   "source": [
    "cc_coeff('ForAgeCalc.xlsx', 'Gilder GS-11', 'FL3', 0.08, 0, 3000, 500)"
   ]
  },
  {
   "cell_type": "code",
   "execution_count": 117,
   "id": "c7cf769b-759a-4cac-91a7-7303cc2ebb59",
   "metadata": {},
   "outputs": [
    {
     "data": {
      "text/plain": [
       "np.float64(0.7294605870430778)"
      ]
     },
     "execution_count": 117,
     "metadata": {},
     "output_type": "execute_result"
    }
   ],
   "source": [
    "cc_coeff('ForAgeCalc.xlsx', 'RNHW', 'RNHE', 0.08, 0, 3000, 500)"
   ]
  },
  {
   "cell_type": "code",
   "execution_count": 118,
   "id": "fb3217be-553a-4b2a-9abc-527b632d12d3",
   "metadata": {},
   "outputs": [
    {
     "data": {
      "text/plain": [
       "np.float64(0.5877984265186234)"
      ]
     },
     "execution_count": 118,
     "metadata": {},
     "output_type": "execute_result"
    }
   ],
   "source": [
    "cc_coeff('ForAgeCalc.xlsx', 'RNHW', 'NY14-TAP-22', 0.08, 0, 3000, 500)"
   ]
  },
  {
   "cell_type": "code",
   "execution_count": 119,
   "id": "655b883e-ebd0-447f-a472-f3a61e982fa5",
   "metadata": {},
   "outputs": [
    {
     "data": {
      "text/plain": [
       "np.float64(0.6006489628558329)"
      ]
     },
     "execution_count": 119,
     "metadata": {},
     "output_type": "execute_result"
    }
   ],
   "source": [
    "cc_coeff('ForAgeCalc.xlsx', 'RNHW', 'E79', 0.08, 0, 3000, 500)"
   ]
  },
  {
   "cell_type": "code",
   "execution_count": 120,
   "id": "0fab251e-6e6a-47e5-9dba-ed17dfdfb2b2",
   "metadata": {},
   "outputs": [
    {
     "data": {
      "text/plain": [
       "np.float64(0.8295846320671033)"
      ]
     },
     "execution_count": 120,
     "metadata": {},
     "output_type": "execute_result"
    }
   ],
   "source": [
    "cc_coeff('ForAgeCalc.xlsx', 'RNHW', 'PB', 0.08, 0, 3000, 500)"
   ]
  },
  {
   "cell_type": "code",
   "execution_count": 121,
   "id": "fc1f2f0f-aba9-4bb7-9d5d-91c2a5f1722f",
   "metadata": {},
   "outputs": [
    {
     "data": {
      "text/plain": [
       "np.float64(0.9118863237292198)"
      ]
     },
     "execution_count": 121,
     "metadata": {},
     "output_type": "execute_result"
    }
   ],
   "source": [
    "cc_coeff('ForAgeCalc.xlsx', 'RNHW', 'FL3', 0.08, 0, 3000, 500)"
   ]
  },
  {
   "cell_type": "code",
   "execution_count": 122,
   "id": "5b171167-a846-4a05-9c3c-ac652b862ab9",
   "metadata": {},
   "outputs": [
    {
     "data": {
      "text/plain": [
       "np.float64(0.3465735955771297)"
      ]
     },
     "execution_count": 122,
     "metadata": {},
     "output_type": "execute_result"
    }
   ],
   "source": [
    "cc_coeff('ForAgeCalc.xlsx', 'RNHE', 'NY14-TAP-22', 0.08, 0, 3000, 500)"
   ]
  },
  {
   "cell_type": "code",
   "execution_count": 123,
   "id": "29b61085-0649-4509-b6f1-17339b8b6753",
   "metadata": {},
   "outputs": [
    {
     "data": {
      "text/plain": [
       "np.float64(0.7678304389198257)"
      ]
     },
     "execution_count": 123,
     "metadata": {},
     "output_type": "execute_result"
    }
   ],
   "source": [
    "cc_coeff('ForAgeCalc.xlsx', 'RNHE', 'E79', 0.08, 0, 3000, 500)"
   ]
  },
  {
   "cell_type": "code",
   "execution_count": 124,
   "id": "cbaf5b40-b36a-4209-8226-1ef68405ca92",
   "metadata": {},
   "outputs": [
    {
     "data": {
      "text/plain": [
       "np.float64(0.6174055282957762)"
      ]
     },
     "execution_count": 124,
     "metadata": {},
     "output_type": "execute_result"
    }
   ],
   "source": [
    "cc_coeff('ForAgeCalc.xlsx', 'RNHE', 'PB', 0.08, 0, 3000, 500)"
   ]
  },
  {
   "cell_type": "code",
   "execution_count": 125,
   "id": "11391e8c-cc4f-48f1-97b4-561da56e18ec",
   "metadata": {},
   "outputs": [
    {
     "data": {
      "text/plain": [
       "np.float64(0.693005801473963)"
      ]
     },
     "execution_count": 125,
     "metadata": {},
     "output_type": "execute_result"
    }
   ],
   "source": [
    "cc_coeff('ForAgeCalc.xlsx', 'RNHE', 'FL3', 0.08, 0, 3000, 500)"
   ]
  },
  {
   "cell_type": "code",
   "execution_count": 126,
   "id": "66df0f4f-f95c-4dd8-ac1e-08b86e5e59fd",
   "metadata": {},
   "outputs": [
    {
     "data": {
      "text/plain": [
       "np.float64(0.31131606992000194)"
      ]
     },
     "execution_count": 126,
     "metadata": {},
     "output_type": "execute_result"
    }
   ],
   "source": [
    "cc_coeff('ForAgeCalc.xlsx', 'NY14-TAP-22', 'E79', 0.08, 0, 3000, 500)"
   ]
  },
  {
   "cell_type": "code",
   "execution_count": 127,
   "id": "2e093d4e-b8c0-44e3-be9e-dbb97431962b",
   "metadata": {},
   "outputs": [
    {
     "data": {
      "text/plain": [
       "np.float64(0.5777803667282305)"
      ]
     },
     "execution_count": 127,
     "metadata": {},
     "output_type": "execute_result"
    }
   ],
   "source": [
    "cc_coeff('ForAgeCalc.xlsx', 'NY14-TAP-22', 'PB', 0.08, 0, 3000, 500)"
   ]
  },
  {
   "cell_type": "code",
   "execution_count": 128,
   "id": "b73ed7f1-c263-4774-be86-2c31c32ced59",
   "metadata": {},
   "outputs": [
    {
     "data": {
      "text/plain": [
       "np.float64(0.6210914996496718)"
      ]
     },
     "execution_count": 128,
     "metadata": {},
     "output_type": "execute_result"
    }
   ],
   "source": [
    "cc_coeff('ForAgeCalc.xlsx', 'NY14-TAP-22', 'FL3', 0.08, 0, 3000, 500)"
   ]
  },
  {
   "cell_type": "code",
   "execution_count": 129,
   "id": "2f403c69-f7fc-4405-861a-9f2878603c13",
   "metadata": {},
   "outputs": [
    {
     "data": {
      "text/plain": [
       "np.float64(0.5757553164545933)"
      ]
     },
     "execution_count": 129,
     "metadata": {},
     "output_type": "execute_result"
    }
   ],
   "source": [
    "cc_coeff('ForAgeCalc.xlsx', 'E79', 'PB', 0.08, 0, 3000, 500)"
   ]
  },
  {
   "cell_type": "code",
   "execution_count": 130,
   "id": "a5d409d3-77ed-400d-a110-6d149a16d444",
   "metadata": {},
   "outputs": [
    {
     "data": {
      "text/plain": [
       "np.float64(0.5948811754519838)"
      ]
     },
     "execution_count": 130,
     "metadata": {},
     "output_type": "execute_result"
    }
   ],
   "source": [
    "cc_coeff('ForAgeCalc.xlsx', 'E79', 'FL3', 0.08, 0, 3000, 500)"
   ]
  },
  {
   "cell_type": "code",
   "execution_count": 131,
   "id": "2c4717c2-26c0-4d4d-b722-fdffaef781eb",
   "metadata": {},
   "outputs": [
    {
     "data": {
      "text/plain": [
       "np.float64(0.787990798213025)"
      ]
     },
     "execution_count": 131,
     "metadata": {},
     "output_type": "execute_result"
    }
   ],
   "source": [
    "cc_coeff('ForAgeCalc.xlsx', 'PB', 'FL3', 0.08, 0, 3000, 500)"
   ]
  }
 ],
 "metadata": {
  "kernelspec": {
   "display_name": "Python 3 (ipykernel)",
   "language": "python",
   "name": "python3"
  },
  "language_info": {
   "codemirror_mode": {
    "name": "ipython",
    "version": 3
   },
   "file_extension": ".py",
   "mimetype": "text/x-python",
   "name": "python",
   "nbconvert_exporter": "python",
   "pygments_lexer": "ipython3",
   "version": "3.13.3"
  }
 },
 "nbformat": 4,
 "nbformat_minor": 5
}
