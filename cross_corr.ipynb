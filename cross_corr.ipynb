{
 "cells": [
  {
   "cell_type": "code",
   "execution_count": 134,
   "id": "f361a13e-5b8e-4d8f-9703-e1feb17f8ba7",
   "metadata": {},
   "outputs": [],
   "source": [
    "from scipy import stats\n",
    "from scipy.stats import gaussian_kde\n",
    "from scipy import signal\n",
    "from scipy.signal import correlate\n",
    "import numpy as np\n",
    "import matplotlib.pyplot as plt\n",
    "import pandas as pd"
   ]
  },
  {
   "cell_type": "code",
   "execution_count": 135,
   "id": "f2bf082e-7584-42e1-a1f7-7d504be90b13",
   "metadata": {},
   "outputs": [],
   "source": [
    "def cc_coeff(file_name, col_name1, col_name2, bw, lower, upper, nums):\n",
    "    df = pd.read_excel(file_name)\n",
    "    data1 = df[col_name1].dropna()\n",
    "    data2 = df[col_name2].dropna()\n",
    "    kde1 = gaussian_kde(data1, bw_method=bw)\n",
    "    kde2 = gaussian_kde(data2, bw_method=bw)\n",
    "    x_vals = np.linspace(min(data1.min(), data2.min()) - 1, max(data1.max(), data2.max()) + 1, nums)\n",
    "    density1 = kde1(x_vals)\n",
    "    density2 = kde2(x_vals)\n",
    "    corr_matrix = np.corrcoef(density1, density2)\n",
    "    corr = corr_matrix[0,1]\n",
    "    R_sq = corr**2\n",
    "    return R_sq"
   ]
  },
  {
   "cell_type": "code",
   "execution_count": 136,
   "id": "dee6357b-bec2-4a25-b7c3-4477728567a7",
   "metadata": {},
   "outputs": [
    {
     "data": {
      "text/plain": [
       "np.float64(0.7840917405479677)"
      ]
     },
     "execution_count": 136,
     "metadata": {},
     "output_type": "execute_result"
    }
   ],
   "source": [
    "cc_coeff('ForAgeCalc.xlsx', 'Gilder GS-11', 'RNHW', 0.08, 0, 3000, 500)"
   ]
  },
  {
   "cell_type": "code",
   "execution_count": 137,
   "id": "0af71aec-276e-4ac0-b87d-d014e1372978",
   "metadata": {},
   "outputs": [
    {
     "data": {
      "text/plain": [
       "np.float64(0.6048075019831254)"
      ]
     },
     "execution_count": 137,
     "metadata": {},
     "output_type": "execute_result"
    }
   ],
   "source": [
    "cc_coeff('ForAgeCalc.xlsx', 'Gilder GS-11', 'RNHE', 0.08, 0, 3000, 500)"
   ]
  },
  {
   "cell_type": "code",
   "execution_count": 138,
   "id": "a0fc84a5-5d66-4259-a538-387bf77a55f1",
   "metadata": {},
   "outputs": [
    {
     "data": {
      "text/plain": [
       "np.float64(0.48371570197448144)"
      ]
     },
     "execution_count": 138,
     "metadata": {},
     "output_type": "execute_result"
    }
   ],
   "source": [
    "cc_coeff('ForAgeCalc.xlsx', 'Gilder GS-11', 'NY14-TAP-22', 0.08, 0, 3000, 500)"
   ]
  },
  {
   "cell_type": "code",
   "execution_count": 139,
   "id": "0370bf14-d7ae-482d-901a-8455ed6c1f85",
   "metadata": {},
   "outputs": [
    {
     "data": {
      "text/plain": [
       "np.float64(0.5374248249632846)"
      ]
     },
     "execution_count": 139,
     "metadata": {},
     "output_type": "execute_result"
    }
   ],
   "source": [
    "cc_coeff('ForAgeCalc.xlsx', 'Gilder GS-11', 'E79', 0.08, 0, 3000, 500)"
   ]
  },
  {
   "cell_type": "code",
   "execution_count": 140,
   "id": "48ef2a0a-c3e7-445c-aed8-bfe16ce1d728",
   "metadata": {},
   "outputs": [
    {
     "data": {
      "text/plain": [
       "np.float64(0.7179226124124469)"
      ]
     },
     "execution_count": 140,
     "metadata": {},
     "output_type": "execute_result"
    }
   ],
   "source": [
    "cc_coeff('ForAgeCalc.xlsx', 'Gilder GS-11', 'PB', 0.08, 0, 3000, 500)"
   ]
  },
  {
   "cell_type": "code",
   "execution_count": 141,
   "id": "c1a4e994-fdbb-4220-b307-2eea75459a68",
   "metadata": {},
   "outputs": [
    {
     "data": {
      "text/plain": [
       "np.float64(0.8720890554736798)"
      ]
     },
     "execution_count": 141,
     "metadata": {},
     "output_type": "execute_result"
    }
   ],
   "source": [
    "cc_coeff('ForAgeCalc.xlsx', 'Gilder GS-11', 'FL3', 0.08, 0, 3000, 500)"
   ]
  },
  {
   "cell_type": "code",
   "execution_count": 142,
   "id": "c7cf769b-759a-4cac-91a7-7303cc2ebb59",
   "metadata": {},
   "outputs": [
    {
     "data": {
      "text/plain": [
       "np.float64(0.7294605870430778)"
      ]
     },
     "execution_count": 142,
     "metadata": {},
     "output_type": "execute_result"
    }
   ],
   "source": [
    "cc_coeff('ForAgeCalc.xlsx', 'RNHW', 'RNHE', 0.08, 0, 3000, 500)"
   ]
  },
  {
   "cell_type": "code",
   "execution_count": 143,
   "id": "fb3217be-553a-4b2a-9abc-527b632d12d3",
   "metadata": {},
   "outputs": [
    {
     "data": {
      "text/plain": [
       "np.float64(0.5877984265186234)"
      ]
     },
     "execution_count": 143,
     "metadata": {},
     "output_type": "execute_result"
    }
   ],
   "source": [
    "cc_coeff('ForAgeCalc.xlsx', 'RNHW', 'NY14-TAP-22', 0.08, 0, 3000, 500)"
   ]
  },
  {
   "cell_type": "code",
   "execution_count": 144,
   "id": "655b883e-ebd0-447f-a472-f3a61e982fa5",
   "metadata": {},
   "outputs": [
    {
     "data": {
      "text/plain": [
       "np.float64(0.6006489628558329)"
      ]
     },
     "execution_count": 144,
     "metadata": {},
     "output_type": "execute_result"
    }
   ],
   "source": [
    "cc_coeff('ForAgeCalc.xlsx', 'RNHW', 'E79', 0.08, 0, 3000, 500)"
   ]
  },
  {
   "cell_type": "code",
   "execution_count": 145,
   "id": "0fab251e-6e6a-47e5-9dba-ed17dfdfb2b2",
   "metadata": {},
   "outputs": [
    {
     "data": {
      "text/plain": [
       "np.float64(0.8295846320671033)"
      ]
     },
     "execution_count": 145,
     "metadata": {},
     "output_type": "execute_result"
    }
   ],
   "source": [
    "cc_coeff('ForAgeCalc.xlsx', 'RNHW', 'PB', 0.08, 0, 3000, 500)"
   ]
  },
  {
   "cell_type": "code",
   "execution_count": 146,
   "id": "fc1f2f0f-aba9-4bb7-9d5d-91c2a5f1722f",
   "metadata": {},
   "outputs": [
    {
     "data": {
      "text/plain": [
       "np.float64(0.9118863237292198)"
      ]
     },
     "execution_count": 146,
     "metadata": {},
     "output_type": "execute_result"
    }
   ],
   "source": [
    "cc_coeff('ForAgeCalc.xlsx', 'RNHW', 'FL3', 0.08, 0, 3000, 500)"
   ]
  },
  {
   "cell_type": "code",
   "execution_count": 147,
   "id": "5b171167-a846-4a05-9c3c-ac652b862ab9",
   "metadata": {},
   "outputs": [
    {
     "data": {
      "text/plain": [
       "np.float64(0.3465735955771297)"
      ]
     },
     "execution_count": 147,
     "metadata": {},
     "output_type": "execute_result"
    }
   ],
   "source": [
    "cc_coeff('ForAgeCalc.xlsx', 'RNHE', 'NY14-TAP-22', 0.08, 0, 3000, 500)"
   ]
  },
  {
   "cell_type": "code",
   "execution_count": 148,
   "id": "29b61085-0649-4509-b6f1-17339b8b6753",
   "metadata": {},
   "outputs": [
    {
     "data": {
      "text/plain": [
       "np.float64(0.7678304389198257)"
      ]
     },
     "execution_count": 148,
     "metadata": {},
     "output_type": "execute_result"
    }
   ],
   "source": [
    "cc_coeff('ForAgeCalc.xlsx', 'RNHE', 'E79', 0.08, 0, 3000, 500)"
   ]
  },
  {
   "cell_type": "code",
   "execution_count": 149,
   "id": "cbaf5b40-b36a-4209-8226-1ef68405ca92",
   "metadata": {},
   "outputs": [
    {
     "data": {
      "text/plain": [
       "np.float64(0.6174055282957762)"
      ]
     },
     "execution_count": 149,
     "metadata": {},
     "output_type": "execute_result"
    }
   ],
   "source": [
    "cc_coeff('ForAgeCalc.xlsx', 'RNHE', 'PB', 0.08, 0, 3000, 500)"
   ]
  },
  {
   "cell_type": "code",
   "execution_count": 150,
   "id": "11391e8c-cc4f-48f1-97b4-561da56e18ec",
   "metadata": {},
   "outputs": [
    {
     "data": {
      "text/plain": [
       "np.float64(0.693005801473963)"
      ]
     },
     "execution_count": 150,
     "metadata": {},
     "output_type": "execute_result"
    }
   ],
   "source": [
    "cc_coeff('ForAgeCalc.xlsx', 'RNHE', 'FL3', 0.08, 0, 3000, 500)"
   ]
  },
  {
   "cell_type": "code",
   "execution_count": 151,
   "id": "66df0f4f-f95c-4dd8-ac1e-08b86e5e59fd",
   "metadata": {},
   "outputs": [
    {
     "data": {
      "text/plain": [
       "np.float64(0.31131606992000194)"
      ]
     },
     "execution_count": 151,
     "metadata": {},
     "output_type": "execute_result"
    }
   ],
   "source": [
    "cc_coeff('ForAgeCalc.xlsx', 'NY14-TAP-22', 'E79', 0.08, 0, 3000, 500)"
   ]
  },
  {
   "cell_type": "code",
   "execution_count": 152,
   "id": "2e093d4e-b8c0-44e3-be9e-dbb97431962b",
   "metadata": {},
   "outputs": [
    {
     "data": {
      "text/plain": [
       "np.float64(0.5777803667282305)"
      ]
     },
     "execution_count": 152,
     "metadata": {},
     "output_type": "execute_result"
    }
   ],
   "source": [
    "cc_coeff('ForAgeCalc.xlsx', 'NY14-TAP-22', 'PB', 0.08, 0, 3000, 500)"
   ]
  },
  {
   "cell_type": "code",
   "execution_count": 153,
   "id": "b73ed7f1-c263-4774-be86-2c31c32ced59",
   "metadata": {},
   "outputs": [
    {
     "data": {
      "text/plain": [
       "np.float64(0.6210914996496718)"
      ]
     },
     "execution_count": 153,
     "metadata": {},
     "output_type": "execute_result"
    }
   ],
   "source": [
    "cc_coeff('ForAgeCalc.xlsx', 'NY14-TAP-22', 'FL3', 0.08, 0, 3000, 500)"
   ]
  },
  {
   "cell_type": "code",
   "execution_count": 154,
   "id": "2f403c69-f7fc-4405-861a-9f2878603c13",
   "metadata": {},
   "outputs": [
    {
     "data": {
      "text/plain": [
       "np.float64(0.5757553164545933)"
      ]
     },
     "execution_count": 154,
     "metadata": {},
     "output_type": "execute_result"
    }
   ],
   "source": [
    "cc_coeff('ForAgeCalc.xlsx', 'E79', 'PB', 0.08, 0, 3000, 500)"
   ]
  },
  {
   "cell_type": "code",
   "execution_count": 155,
   "id": "a5d409d3-77ed-400d-a110-6d149a16d444",
   "metadata": {},
   "outputs": [
    {
     "data": {
      "text/plain": [
       "np.float64(0.5948811754519838)"
      ]
     },
     "execution_count": 155,
     "metadata": {},
     "output_type": "execute_result"
    }
   ],
   "source": [
    "cc_coeff('ForAgeCalc.xlsx', 'E79', 'FL3', 0.08, 0, 3000, 500)"
   ]
  },
  {
   "cell_type": "code",
   "execution_count": 156,
   "id": "2c4717c2-26c0-4d4d-b722-fdffaef781eb",
   "metadata": {},
   "outputs": [
    {
     "data": {
      "text/plain": [
       "np.float64(0.787990798213025)"
      ]
     },
     "execution_count": 156,
     "metadata": {},
     "output_type": "execute_result"
    }
   ],
   "source": [
    "cc_coeff('ForAgeCalc.xlsx', 'PB', 'FL3', 0.08, 0, 3000, 500)"
   ]
  },
  {
   "cell_type": "code",
   "execution_count": 157,
   "id": "6f888c1b-96b9-4425-81e0-cc8abb592d5d",
   "metadata": {},
   "outputs": [],
   "source": [
    "# Updated cross-correlation coefficient function!\n",
    "def cc_coeff_updated(file_name, col_name1, col_name2, bw, lower, upper, nums):\n",
    "    df = pd.read_excel(file_name)\n",
    "    data1 = df[col_name1].dropna()\n",
    "    data2 = df[col_name2].dropna()\n",
    "    \n",
    "    kde1 = gaussian_kde(data1, bw_method=bw)\n",
    "    kde2 = gaussian_kde(data2, bw_method=bw)\n",
    "    x_vals = np.linspace(min(data1.min(), data2.min()) - 1, max(data1.max(), data2.max()) + 1, nums)\n",
    "    density1 = kde1(x_vals)\n",
    "    density2 = kde2(x_vals)\n",
    "    corr_matrix = np.corrcoef(density1, density2)\n",
    "    corr = corr_matrix[0,1]\n",
    "    R_sq = corr**2\n",
    "    return R_sq"
   ]
  },
  {
   "cell_type": "code",
   "execution_count": 158,
   "id": "2b6ef8d9-f1a9-4886-b4dc-404bb4736d6f",
   "metadata": {},
   "outputs": [
    {
     "data": {
      "text/plain": [
       "np.float64(0.7840917405479677)"
      ]
     },
     "execution_count": 158,
     "metadata": {},
     "output_type": "execute_result"
    }
   ],
   "source": [
    "cc_coeff_updated('ForAgeCalc.xlsx', 'Gilder GS-11', 'RNHW', 0.08, 0, 3000, 500)"
   ]
  },
  {
   "cell_type": "code",
   "execution_count": 159,
   "id": "66703338-915b-46d6-88d1-83ed584aa3cf",
   "metadata": {},
   "outputs": [
    {
     "data": {
      "text/plain": [
       "np.float64(0.6048075019831254)"
      ]
     },
     "execution_count": 159,
     "metadata": {},
     "output_type": "execute_result"
    }
   ],
   "source": [
    "cc_coeff_updated('ForAgeCalc.xlsx', 'Gilder GS-11', 'RNHE', 0.08, 0, 3000, 500)"
   ]
  },
  {
   "cell_type": "code",
   "execution_count": 160,
   "id": "e1fec196-0d8b-46a5-a808-f1033f1793b2",
   "metadata": {},
   "outputs": [],
   "source": [
    "# Final draft of cross-correlation coefficient function\n",
    "def K(x, xi, h):\n",
    "    return np.exp(-0.5*((x - xi)**2) / (h**2))* (1/(h*np.sqrt(2*np.pi)))\n",
    "\n",
    "def cc_coeff_final(file_name, col_name1, col_name2, bw, lower, upper, nums):\n",
    "    df = pd.read_excel(file_name)\n",
    "    column_list = df.columns.tolist()\n",
    "    required_cols = [col_name1, col_name2, col_name1 + ' Error', col_name2 + ' Error']\n",
    "    if not all(col in column_list for col in required_cols):\n",
    "        return None\n",
    "    \n",
    "    column_duet = [col_name1, col_name2]\n",
    "    error1 = col_name1 + ' Error'\n",
    "    error2 = col_name2 + ' Error'\n",
    "    error_duet = [error1, error2]\n",
    "    new_list = []\n",
    "    \n",
    "    kde1 = gaussian_kde(data1, bw_method=bw)\n",
    "    kde2 = gaussian_kde(data2, bw_method=bw)\n",
    "    x_vals = np.linspace(min(data1.min(), data2.min()) - 1, max(data1.max(), data2.max()) + 1, nums)\n",
    "    density1 = kde1(x_vals)\n",
    "    density2 = kde2(x_vals)\n",
    "    \n",
    "    corr_matrix = np.corrcoef(density1, density2)\n",
    "    corr = corr_matrix[0,1]\n",
    "    R_sq = corr**2\n",
    "    return R_sq"
   ]
  }
 ],
 "metadata": {
  "kernelspec": {
   "display_name": "Python 3 (ipykernel)",
   "language": "python",
   "name": "python3"
  },
  "language_info": {
   "codemirror_mode": {
    "name": "ipython",
    "version": 3
   },
   "file_extension": ".py",
   "mimetype": "text/x-python",
   "name": "python",
   "nbconvert_exporter": "python",
   "pygments_lexer": "ipython3",
   "version": "3.13.3"
  }
 },
 "nbformat": 4,
 "nbformat_minor": 5
}
