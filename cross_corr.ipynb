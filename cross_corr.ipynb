{
 "cells": [
  {
   "cell_type": "code",
   "execution_count": 1,
   "id": "f361a13e-5b8e-4d8f-9703-e1feb17f8ba7",
   "metadata": {},
   "outputs": [],
   "source": [
    "from scipy import stats\n",
    "from scipy.stats import gaussian_kde\n",
    "from scipy import signal\n",
    "from scipy.signal import correlate\n",
    "import numpy as np\n",
    "import matplotlib.pyplot as plt\n",
    "import pandas as pd\n",
    "import seaborn as sns"
   ]
  },
  {
   "cell_type": "code",
   "execution_count": 32,
   "id": "ee9262fc-dd3b-48a9-b92c-859af043e19e",
   "metadata": {},
   "outputs": [],
   "source": [
    "def cross_corr_coefficient(file_name, col_name1, col_name2, bw, lower, upper, nums):\n",
    "    df = pd.read_excel(file_name)\n",
    "    data1 = df[col_name1].dropna()\n",
    "    data2 = df[col_name2].dropna()\n",
    "    x_vals = np.linspace(min(data1.min(), data2.min()) - 1, max(data1.max(), data2.max()) + 1, nums)\n",
    "    cross_corr = signal.correlate(data1, data2, mode='full')\n",
    "    norm_factor = np.sqrt(np.sum(np.abs(data1)**2) * np.sum(np.abs(data2)**2))\n",
    "    norm_cross_corr = cross_corr/norm_factor\n",
    "    r = max(norm_cross_corr)\n",
    "    return r**2"
   ]
  },
  {
   "cell_type": "code",
   "execution_count": 33,
   "id": "8af30597-9e7d-4eae-9be1-0ec737134d2e",
   "metadata": {},
   "outputs": [
    {
     "data": {
      "text/plain": [
       "np.float64(0.8743837831108917)"
      ]
     },
     "execution_count": 33,
     "metadata": {},
     "output_type": "execute_result"
    }
   ],
   "source": [
    "cross_corr_coefficient('ForAgeCalc.xlsx', 'Gilder GS-11', 'RNHW', 0.08, 0, 3000, 500)"
   ]
  },
  {
   "cell_type": "code",
   "execution_count": 34,
   "id": "fbe028a6-5070-42a0-93d6-f4a2bd9771ec",
   "metadata": {},
   "outputs": [
    {
     "data": {
      "text/plain": [
       "np.float64(0.9491376251477722)"
      ]
     },
     "execution_count": 34,
     "metadata": {},
     "output_type": "execute_result"
    }
   ],
   "source": [
    "cross_corr_coefficient('ForAgeCalc.xlsx', 'Gilder GS-11', 'RNHE', 0.08, 0, 3000, 500)"
   ]
  },
  {
   "cell_type": "code",
   "execution_count": 35,
   "id": "e1947dea-e7b4-4b84-8695-e5661bff60f2",
   "metadata": {},
   "outputs": [
    {
     "data": {
      "text/plain": [
       "np.float64(0.753414601931454)"
      ]
     },
     "execution_count": 35,
     "metadata": {},
     "output_type": "execute_result"
    }
   ],
   "source": [
    "cross_corr_coefficient('ForAgeCalc.xlsx', 'Gilder GS-11', 'NY14-TAP-22', 0.08, 0, 3000, 500)"
   ]
  },
  {
   "cell_type": "code",
   "execution_count": 36,
   "id": "46875fd8-4b0d-471e-a913-a15a0872a318",
   "metadata": {},
   "outputs": [
    {
     "data": {
      "text/plain": [
       "np.float64(0.9607233687106874)"
      ]
     },
     "execution_count": 36,
     "metadata": {},
     "output_type": "execute_result"
    }
   ],
   "source": [
    "cross_corr_coefficient('ForAgeCalc.xlsx', 'Gilder GS-11', 'E79', 0.08, 0, 3000, 500)"
   ]
  },
  {
   "cell_type": "code",
   "execution_count": 12,
   "id": "238cc9f5-7c83-42cd-989e-507584c34e81",
   "metadata": {},
   "outputs": [
    {
     "data": {
      "text/plain": [
       "np.float64(0.9868614095043969)"
      ]
     },
     "execution_count": 12,
     "metadata": {},
     "output_type": "execute_result"
    }
   ],
   "source": [
    "cross_corr_coefficient('ForAgeCalc.xlsx', 'Gilder GS-11', 'PB', 0.08, 0, 3000, 500)"
   ]
  },
  {
   "cell_type": "code",
   "execution_count": 13,
   "id": "f19d046b-b4e3-43f0-87a7-172b13ec6f02",
   "metadata": {},
   "outputs": [
    {
     "data": {
      "text/plain": [
       "np.float64(0.8081695840509432)"
      ]
     },
     "execution_count": 13,
     "metadata": {},
     "output_type": "execute_result"
    }
   ],
   "source": [
    "cross_corr_coefficient('ForAgeCalc.xlsx', 'Gilder GS-11', 'FL3', 0.08, 0, 3000, 500)"
   ]
  },
  {
   "cell_type": "code",
   "execution_count": 14,
   "id": "38a61046-e9a8-4920-b594-7a7705edab1a",
   "metadata": {},
   "outputs": [
    {
     "data": {
      "text/plain": [
       "np.float64(0.8240960624703612)"
      ]
     },
     "execution_count": 14,
     "metadata": {},
     "output_type": "execute_result"
    }
   ],
   "source": [
    "cross_corr_coefficient('ForAgeCalc.xlsx', 'RNHW', 'RNHE', 0.08, 0, 3000, 500)"
   ]
  },
  {
   "cell_type": "code",
   "execution_count": 15,
   "id": "937f8cc6-42d3-4fb1-a1c6-7343add9edcb",
   "metadata": {},
   "outputs": [
    {
     "data": {
      "text/plain": [
       "np.float64(0.8571987613169342)"
      ]
     },
     "execution_count": 15,
     "metadata": {},
     "output_type": "execute_result"
    }
   ],
   "source": [
    "cross_corr_coefficient('ForAgeCalc.xlsx', 'RNHW', 'NY14-TAP-22', 0.08, 0, 3000, 500)"
   ]
  },
  {
   "cell_type": "code",
   "execution_count": 16,
   "id": "2eed5f94-f1ca-4ae5-bf49-06a3c6bb283c",
   "metadata": {},
   "outputs": [
    {
     "data": {
      "text/plain": [
       "np.float64(0.929286896102718)"
      ]
     },
     "execution_count": 16,
     "metadata": {},
     "output_type": "execute_result"
    }
   ],
   "source": [
    "cross_corr_coefficient('ForAgeCalc.xlsx', 'RNHW', 'E79', 0.08, 0, 3000, 500)"
   ]
  },
  {
   "cell_type": "code",
   "execution_count": 17,
   "id": "b3e33f7f-fd12-4f63-8cc2-29bd91239a97",
   "metadata": {},
   "outputs": [
    {
     "data": {
      "text/plain": [
       "np.float64(0.8551231659159745)"
      ]
     },
     "execution_count": 17,
     "metadata": {},
     "output_type": "execute_result"
    }
   ],
   "source": [
    "cross_corr_coefficient('ForAgeCalc.xlsx', 'RNHW', 'PB', 0.08, 0, 3000, 500)"
   ]
  },
  {
   "cell_type": "code",
   "execution_count": 18,
   "id": "065fe0b9-a8bd-4323-a758-6b32b745e3de",
   "metadata": {},
   "outputs": [
    {
     "data": {
      "text/plain": [
       "np.float64(0.9350452232450178)"
      ]
     },
     "execution_count": 18,
     "metadata": {},
     "output_type": "execute_result"
    }
   ],
   "source": [
    "cross_corr_coefficient('ForAgeCalc.xlsx', 'RNHW', 'FL3', 0.08, 0, 3000, 500)"
   ]
  },
  {
   "cell_type": "code",
   "execution_count": 20,
   "id": "5225aa34-171c-47ec-94eb-0bf029024834",
   "metadata": {},
   "outputs": [
    {
     "data": {
      "text/plain": [
       "np.float64(0.6598983242543289)"
      ]
     },
     "execution_count": 20,
     "metadata": {},
     "output_type": "execute_result"
    }
   ],
   "source": [
    "cross_corr_coefficient('ForAgeCalc.xlsx', 'RNHE', 'NY14-TAP-22', 0.08, 0, 3000, 500)"
   ]
  },
  {
   "cell_type": "code",
   "execution_count": 21,
   "id": "17da9d7a-3c2a-44b3-b9be-32856f5759fa",
   "metadata": {},
   "outputs": [
    {
     "data": {
      "text/plain": [
       "np.float64(0.9376807013475176)"
      ]
     },
     "execution_count": 21,
     "metadata": {},
     "output_type": "execute_result"
    }
   ],
   "source": [
    "cross_corr_coefficient('ForAgeCalc.xlsx', 'RNHE', 'E79', 0.08, 0, 3000, 500)"
   ]
  },
  {
   "cell_type": "code",
   "execution_count": 22,
   "id": "6ce04781-01a5-4811-8db8-c6d3a84c43dd",
   "metadata": {},
   "outputs": [
    {
     "data": {
      "text/plain": [
       "np.float64(0.9684920128835989)"
      ]
     },
     "execution_count": 22,
     "metadata": {},
     "output_type": "execute_result"
    }
   ],
   "source": [
    "cross_corr_coefficient('ForAgeCalc.xlsx', 'RNHE', 'PB', 0.08, 0, 3000, 500)"
   ]
  },
  {
   "cell_type": "code",
   "execution_count": 23,
   "id": "9c95c3e0-02dd-4d3f-a23f-8247abfadaed",
   "metadata": {},
   "outputs": [
    {
     "data": {
      "text/plain": [
       "np.float64(0.7475791728400498)"
      ]
     },
     "execution_count": 23,
     "metadata": {},
     "output_type": "execute_result"
    }
   ],
   "source": [
    "cross_corr_coefficient('ForAgeCalc.xlsx', 'RNHE', 'FL3', 0.08, 0, 3000, 500)"
   ]
  },
  {
   "cell_type": "code",
   "execution_count": 24,
   "id": "cca5d374-b4bc-49a8-9aa9-e60c91218373",
   "metadata": {},
   "outputs": [
    {
     "data": {
      "text/plain": [
       "np.float64(0.8055015015626457)"
      ]
     },
     "execution_count": 24,
     "metadata": {},
     "output_type": "execute_result"
    }
   ],
   "source": [
    "cross_corr_coefficient('ForAgeCalc.xlsx', 'NY14-TAP-22', 'E79', 0.08, 0, 3000, 500)"
   ]
  },
  {
   "cell_type": "code",
   "execution_count": 25,
   "id": "b84cb95c-3d48-42c3-8455-85c9d766add7",
   "metadata": {},
   "outputs": [
    {
     "data": {
      "text/plain": [
       "np.float64(0.7212359588802651)"
      ]
     },
     "execution_count": 25,
     "metadata": {},
     "output_type": "execute_result"
    }
   ],
   "source": [
    "cross_corr_coefficient('ForAgeCalc.xlsx', 'NY14-TAP-22', 'PB', 0.08, 0, 3000, 500)"
   ]
  },
  {
   "cell_type": "code",
   "execution_count": 26,
   "id": "8a44dbf5-5afb-4e1e-8cc3-4560f8876e65",
   "metadata": {},
   "outputs": [
    {
     "data": {
      "text/plain": [
       "np.float64(0.8409853275699942)"
      ]
     },
     "execution_count": 26,
     "metadata": {},
     "output_type": "execute_result"
    }
   ],
   "source": [
    "cross_corr_coefficient('ForAgeCalc.xlsx', 'NY14-TAP-22', 'FL3', 0.08, 0, 3000, 500)"
   ]
  },
  {
   "cell_type": "code",
   "execution_count": 27,
   "id": "ff3f87ec-af4a-4fda-9859-88419ca0b1cf",
   "metadata": {},
   "outputs": [
    {
     "data": {
      "text/plain": [
       "np.float64(0.9511611013238633)"
      ]
     },
     "execution_count": 27,
     "metadata": {},
     "output_type": "execute_result"
    }
   ],
   "source": [
    "cross_corr_coefficient('ForAgeCalc.xlsx', 'E79', 'PB', 0.08, 0, 3000, 500)"
   ]
  },
  {
   "cell_type": "code",
   "execution_count": 28,
   "id": "fa2f0822-d3f4-4411-8f12-a88c422120f7",
   "metadata": {},
   "outputs": [
    {
     "data": {
      "text/plain": [
       "np.float64(0.8444636918330118)"
      ]
     },
     "execution_count": 28,
     "metadata": {},
     "output_type": "execute_result"
    }
   ],
   "source": [
    "cross_corr_coefficient('ForAgeCalc.xlsx', 'E79', 'FL3', 0.08, 0, 3000, 500)"
   ]
  },
  {
   "cell_type": "code",
   "execution_count": 29,
   "id": "1254068c-9044-4de2-a799-f8ad3c77ae1d",
   "metadata": {},
   "outputs": [
    {
     "data": {
      "text/plain": [
       "np.float64(0.7934256885133848)"
      ]
     },
     "execution_count": 29,
     "metadata": {},
     "output_type": "execute_result"
    }
   ],
   "source": [
    "cross_corr_coefficient('ForAgeCalc.xlsx', 'PB', 'FL3', 0.08, 0, 3000, 500)"
   ]
  },
  {
   "cell_type": "code",
   "execution_count": null,
   "id": "f2bf082e-7584-42e1-a1f7-7d504be90b13",
   "metadata": {},
   "outputs": [],
   "source": []
  }
 ],
 "metadata": {
  "kernelspec": {
   "display_name": "Python 3 (ipykernel)",
   "language": "python",
   "name": "python3"
  },
  "language_info": {
   "codemirror_mode": {
    "name": "ipython",
    "version": 3
   },
   "file_extension": ".py",
   "mimetype": "text/x-python",
   "name": "python",
   "nbconvert_exporter": "python",
   "pygments_lexer": "ipython3",
   "version": "3.13.3"
  }
 },
 "nbformat": 4,
 "nbformat_minor": 5
}
