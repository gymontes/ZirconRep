{
 "cells": [
  {
   "cell_type": "code",
   "execution_count": 39,
   "id": "f361a13e-5b8e-4d8f-9703-e1feb17f8ba7",
   "metadata": {},
   "outputs": [],
   "source": [
    "from scipy import stats\n",
    "from scipy.stats import gaussian_kde\n",
    "from scipy import signal\n",
    "from scipy.signal import correlate\n",
    "import numpy as np\n",
    "import matplotlib.pyplot as plt\n",
    "import pandas as pd\n",
    "import seaborn as sns"
   ]
  },
  {
   "cell_type": "code",
   "execution_count": 40,
   "id": "ee9262fc-dd3b-48a9-b92c-859af043e19e",
   "metadata": {},
   "outputs": [],
   "source": [
    "def cross_corr_coefficient(file_name, col_name1, col_name2, bw, lower, upper, nums):\n",
    "    df = pd.read_excel(file_name)\n",
    "    data1 = df[col_name1].dropna()\n",
    "    data2 = df[col_name2].dropna()\n",
    "    x_vals = np.linspace(min(data1.min(), data2.min()) - 1, max(data1.max(), data2.max()) + 1, nums)\n",
    "    cross_corr = signal.correlate(data1, data2, mode='full')\n",
    "    norm_factor = np.sqrt(np.sum(np.abs(data1)**2) * np.sum(np.abs(data2)**2))\n",
    "    norm_cross_corr = cross_corr/norm_factor\n",
    "    r = max(norm_cross_corr)\n",
    "    return r**2"
   ]
  },
  {
   "cell_type": "code",
   "execution_count": 41,
   "id": "8af30597-9e7d-4eae-9be1-0ec737134d2e",
   "metadata": {},
   "outputs": [
    {
     "data": {
      "text/plain": [
       "np.float64(0.8743837831108917)"
      ]
     },
     "execution_count": 41,
     "metadata": {},
     "output_type": "execute_result"
    }
   ],
   "source": [
    "cross_corr_coefficient('ForAgeCalc.xlsx', 'Gilder GS-11', 'RNHW', 0.08, 0, 3000, 500)"
   ]
  },
  {
   "cell_type": "code",
   "execution_count": 42,
   "id": "fbe028a6-5070-42a0-93d6-f4a2bd9771ec",
   "metadata": {},
   "outputs": [
    {
     "data": {
      "text/plain": [
       "np.float64(0.9491376251477722)"
      ]
     },
     "execution_count": 42,
     "metadata": {},
     "output_type": "execute_result"
    }
   ],
   "source": [
    "cross_corr_coefficient('ForAgeCalc.xlsx', 'Gilder GS-11', 'RNHE', 0.08, 0, 3000, 500)"
   ]
  },
  {
   "cell_type": "code",
   "execution_count": 43,
   "id": "e1947dea-e7b4-4b84-8695-e5661bff60f2",
   "metadata": {},
   "outputs": [
    {
     "data": {
      "text/plain": [
       "np.float64(0.753414601931454)"
      ]
     },
     "execution_count": 43,
     "metadata": {},
     "output_type": "execute_result"
    }
   ],
   "source": [
    "cross_corr_coefficient('ForAgeCalc.xlsx', 'Gilder GS-11', 'NY14-TAP-22', 0.08, 0, 3000, 500)"
   ]
  },
  {
   "cell_type": "code",
   "execution_count": 44,
   "id": "46875fd8-4b0d-471e-a913-a15a0872a318",
   "metadata": {},
   "outputs": [
    {
     "data": {
      "text/plain": [
       "np.float64(0.9607233687106874)"
      ]
     },
     "execution_count": 44,
     "metadata": {},
     "output_type": "execute_result"
    }
   ],
   "source": [
    "cross_corr_coefficient('ForAgeCalc.xlsx', 'Gilder GS-11', 'E79', 0.08, 0, 3000, 500)"
   ]
  },
  {
   "cell_type": "code",
   "execution_count": 45,
   "id": "238cc9f5-7c83-42cd-989e-507584c34e81",
   "metadata": {},
   "outputs": [
    {
     "data": {
      "text/plain": [
       "np.float64(0.9868614095043969)"
      ]
     },
     "execution_count": 45,
     "metadata": {},
     "output_type": "execute_result"
    }
   ],
   "source": [
    "cross_corr_coefficient('ForAgeCalc.xlsx', 'Gilder GS-11', 'PB', 0.08, 0, 3000, 500)"
   ]
  },
  {
   "cell_type": "code",
   "execution_count": 46,
   "id": "f19d046b-b4e3-43f0-87a7-172b13ec6f02",
   "metadata": {},
   "outputs": [
    {
     "data": {
      "text/plain": [
       "np.float64(0.8081695840509432)"
      ]
     },
     "execution_count": 46,
     "metadata": {},
     "output_type": "execute_result"
    }
   ],
   "source": [
    "cross_corr_coefficient('ForAgeCalc.xlsx', 'Gilder GS-11', 'FL3', 0.08, 0, 3000, 500)"
   ]
  },
  {
   "cell_type": "code",
   "execution_count": 47,
   "id": "38a61046-e9a8-4920-b594-7a7705edab1a",
   "metadata": {},
   "outputs": [
    {
     "data": {
      "text/plain": [
       "np.float64(0.8240960624703612)"
      ]
     },
     "execution_count": 47,
     "metadata": {},
     "output_type": "execute_result"
    }
   ],
   "source": [
    "cross_corr_coefficient('ForAgeCalc.xlsx', 'RNHW', 'RNHE', 0.08, 0, 3000, 500)"
   ]
  },
  {
   "cell_type": "code",
   "execution_count": 48,
   "id": "937f8cc6-42d3-4fb1-a1c6-7343add9edcb",
   "metadata": {},
   "outputs": [
    {
     "data": {
      "text/plain": [
       "np.float64(0.8571987613169342)"
      ]
     },
     "execution_count": 48,
     "metadata": {},
     "output_type": "execute_result"
    }
   ],
   "source": [
    "cross_corr_coefficient('ForAgeCalc.xlsx', 'RNHW', 'NY14-TAP-22', 0.08, 0, 3000, 500)"
   ]
  },
  {
   "cell_type": "code",
   "execution_count": 49,
   "id": "2eed5f94-f1ca-4ae5-bf49-06a3c6bb283c",
   "metadata": {},
   "outputs": [
    {
     "data": {
      "text/plain": [
       "np.float64(0.929286896102718)"
      ]
     },
     "execution_count": 49,
     "metadata": {},
     "output_type": "execute_result"
    }
   ],
   "source": [
    "cross_corr_coefficient('ForAgeCalc.xlsx', 'RNHW', 'E79', 0.08, 0, 3000, 500)"
   ]
  },
  {
   "cell_type": "code",
   "execution_count": 50,
   "id": "b3e33f7f-fd12-4f63-8cc2-29bd91239a97",
   "metadata": {},
   "outputs": [
    {
     "data": {
      "text/plain": [
       "np.float64(0.8551231659159745)"
      ]
     },
     "execution_count": 50,
     "metadata": {},
     "output_type": "execute_result"
    }
   ],
   "source": [
    "cross_corr_coefficient('ForAgeCalc.xlsx', 'RNHW', 'PB', 0.08, 0, 3000, 500)"
   ]
  },
  {
   "cell_type": "code",
   "execution_count": 51,
   "id": "065fe0b9-a8bd-4323-a758-6b32b745e3de",
   "metadata": {},
   "outputs": [
    {
     "data": {
      "text/plain": [
       "np.float64(0.9350452232450178)"
      ]
     },
     "execution_count": 51,
     "metadata": {},
     "output_type": "execute_result"
    }
   ],
   "source": [
    "cross_corr_coefficient('ForAgeCalc.xlsx', 'RNHW', 'FL3', 0.08, 0, 3000, 500)"
   ]
  },
  {
   "cell_type": "code",
   "execution_count": 52,
   "id": "5225aa34-171c-47ec-94eb-0bf029024834",
   "metadata": {},
   "outputs": [
    {
     "data": {
      "text/plain": [
       "np.float64(0.6598983242543289)"
      ]
     },
     "execution_count": 52,
     "metadata": {},
     "output_type": "execute_result"
    }
   ],
   "source": [
    "cross_corr_coefficient('ForAgeCalc.xlsx', 'RNHE', 'NY14-TAP-22', 0.08, 0, 3000, 500)"
   ]
  },
  {
   "cell_type": "code",
   "execution_count": 53,
   "id": "17da9d7a-3c2a-44b3-b9be-32856f5759fa",
   "metadata": {},
   "outputs": [
    {
     "data": {
      "text/plain": [
       "np.float64(0.9376807013475176)"
      ]
     },
     "execution_count": 53,
     "metadata": {},
     "output_type": "execute_result"
    }
   ],
   "source": [
    "cross_corr_coefficient('ForAgeCalc.xlsx', 'RNHE', 'E79', 0.08, 0, 3000, 500)"
   ]
  },
  {
   "cell_type": "code",
   "execution_count": 54,
   "id": "6ce04781-01a5-4811-8db8-c6d3a84c43dd",
   "metadata": {},
   "outputs": [
    {
     "data": {
      "text/plain": [
       "np.float64(0.9684920128835989)"
      ]
     },
     "execution_count": 54,
     "metadata": {},
     "output_type": "execute_result"
    }
   ],
   "source": [
    "cross_corr_coefficient('ForAgeCalc.xlsx', 'RNHE', 'PB', 0.08, 0, 3000, 500)"
   ]
  },
  {
   "cell_type": "code",
   "execution_count": 55,
   "id": "9c95c3e0-02dd-4d3f-a23f-8247abfadaed",
   "metadata": {},
   "outputs": [
    {
     "data": {
      "text/plain": [
       "np.float64(0.7475791728400498)"
      ]
     },
     "execution_count": 55,
     "metadata": {},
     "output_type": "execute_result"
    }
   ],
   "source": [
    "cross_corr_coefficient('ForAgeCalc.xlsx', 'RNHE', 'FL3', 0.08, 0, 3000, 500)"
   ]
  },
  {
   "cell_type": "code",
   "execution_count": 56,
   "id": "cca5d374-b4bc-49a8-9aa9-e60c91218373",
   "metadata": {},
   "outputs": [
    {
     "data": {
      "text/plain": [
       "np.float64(0.8055015015626457)"
      ]
     },
     "execution_count": 56,
     "metadata": {},
     "output_type": "execute_result"
    }
   ],
   "source": [
    "cross_corr_coefficient('ForAgeCalc.xlsx', 'NY14-TAP-22', 'E79', 0.08, 0, 3000, 500)"
   ]
  },
  {
   "cell_type": "code",
   "execution_count": 57,
   "id": "b84cb95c-3d48-42c3-8455-85c9d766add7",
   "metadata": {},
   "outputs": [
    {
     "data": {
      "text/plain": [
       "np.float64(0.7212359588802651)"
      ]
     },
     "execution_count": 57,
     "metadata": {},
     "output_type": "execute_result"
    }
   ],
   "source": [
    "cross_corr_coefficient('ForAgeCalc.xlsx', 'NY14-TAP-22', 'PB', 0.08, 0, 3000, 500)"
   ]
  },
  {
   "cell_type": "code",
   "execution_count": 58,
   "id": "8a44dbf5-5afb-4e1e-8cc3-4560f8876e65",
   "metadata": {},
   "outputs": [
    {
     "data": {
      "text/plain": [
       "np.float64(0.8409853275699942)"
      ]
     },
     "execution_count": 58,
     "metadata": {},
     "output_type": "execute_result"
    }
   ],
   "source": [
    "cross_corr_coefficient('ForAgeCalc.xlsx', 'NY14-TAP-22', 'FL3', 0.08, 0, 3000, 500)"
   ]
  },
  {
   "cell_type": "code",
   "execution_count": 59,
   "id": "ff3f87ec-af4a-4fda-9859-88419ca0b1cf",
   "metadata": {},
   "outputs": [
    {
     "data": {
      "text/plain": [
       "np.float64(0.9511611013238633)"
      ]
     },
     "execution_count": 59,
     "metadata": {},
     "output_type": "execute_result"
    }
   ],
   "source": [
    "cross_corr_coefficient('ForAgeCalc.xlsx', 'E79', 'PB', 0.08, 0, 3000, 500)"
   ]
  },
  {
   "cell_type": "code",
   "execution_count": 60,
   "id": "fa2f0822-d3f4-4411-8f12-a88c422120f7",
   "metadata": {},
   "outputs": [
    {
     "data": {
      "text/plain": [
       "np.float64(0.8444636918330118)"
      ]
     },
     "execution_count": 60,
     "metadata": {},
     "output_type": "execute_result"
    }
   ],
   "source": [
    "cross_corr_coefficient('ForAgeCalc.xlsx', 'E79', 'FL3', 0.08, 0, 3000, 500)"
   ]
  },
  {
   "cell_type": "code",
   "execution_count": 61,
   "id": "1254068c-9044-4de2-a799-f8ad3c77ae1d",
   "metadata": {},
   "outputs": [
    {
     "data": {
      "text/plain": [
       "np.float64(0.7934256885133848)"
      ]
     },
     "execution_count": 61,
     "metadata": {},
     "output_type": "execute_result"
    }
   ],
   "source": [
    "cross_corr_coefficient('ForAgeCalc.xlsx', 'PB', 'FL3', 0.08, 0, 3000, 500)"
   ]
  },
  {
   "cell_type": "code",
   "execution_count": 91,
   "id": "f2bf082e-7584-42e1-a1f7-7d504be90b13",
   "metadata": {},
   "outputs": [],
   "source": [
    "def cc_coeff(file_name, col_name1, col_name2, bw, lower, upper, nums):\n",
    "    df = pd.read_excel(file_name)\n",
    "    data1 = df[col_name1].dropna()\n",
    "    data2 = df[col_name2].dropna()\n",
    "    kde1 = gaussian_kde(data1, bw_method=bw)\n",
    "    kde2 = gaussian_kde(data2, bw_method=bw)\n",
    "    x_vals = np.linspace(min(data1.min(), data2.min()) - 1, max(data1.max(), data2.max()) + 1, nums)\n",
    "    density1 = kde1(x_vals)\n",
    "    density2 = kde2(x_vals)\n",
    "    corr_matrix = np.corrcoef(density1, density2)\n",
    "    corr = corr_matrix[0,1]\n",
    "    R_sq = corr**2\n",
    "    return R_sq"
   ]
  },
  {
   "cell_type": "code",
   "execution_count": 92,
   "id": "dee6357b-bec2-4a25-b7c3-4477728567a7",
   "metadata": {},
   "outputs": [
    {
     "data": {
      "text/plain": [
       "np.float64(0.7840917405479677)"
      ]
     },
     "execution_count": 92,
     "metadata": {},
     "output_type": "execute_result"
    }
   ],
   "source": [
    "cc_coeff('ForAgeCalc.xlsx', 'Gilder GS-11', 'RNHW', 0.08, 0, 3000, 500)"
   ]
  },
  {
   "cell_type": "code",
   "execution_count": 93,
   "id": "0af71aec-276e-4ac0-b87d-d014e1372978",
   "metadata": {},
   "outputs": [
    {
     "data": {
      "text/plain": [
       "np.float64(0.6048075019831254)"
      ]
     },
     "execution_count": 93,
     "metadata": {},
     "output_type": "execute_result"
    }
   ],
   "source": [
    "cc_coeff('ForAgeCalc.xlsx', 'Gilder GS-11', 'RNHE', 0.08, 0, 3000, 500)"
   ]
  },
  {
   "cell_type": "code",
   "execution_count": 94,
   "id": "a0fc84a5-5d66-4259-a538-387bf77a55f1",
   "metadata": {},
   "outputs": [
    {
     "data": {
      "text/plain": [
       "np.float64(0.48371570197448144)"
      ]
     },
     "execution_count": 94,
     "metadata": {},
     "output_type": "execute_result"
    }
   ],
   "source": [
    "cc_coeff('ForAgeCalc.xlsx', 'Gilder GS-11', 'NY14-TAP-22', 0.08, 0, 3000, 500)"
   ]
  },
  {
   "cell_type": "code",
   "execution_count": 95,
   "id": "0370bf14-d7ae-482d-901a-8455ed6c1f85",
   "metadata": {},
   "outputs": [
    {
     "data": {
      "text/plain": [
       "np.float64(0.5374248249632846)"
      ]
     },
     "execution_count": 95,
     "metadata": {},
     "output_type": "execute_result"
    }
   ],
   "source": [
    "cc_coeff('ForAgeCalc.xlsx', 'Gilder GS-11', 'E79', 0.08, 0, 3000, 500)"
   ]
  },
  {
   "cell_type": "code",
   "execution_count": 96,
   "id": "48ef2a0a-c3e7-445c-aed8-bfe16ce1d728",
   "metadata": {},
   "outputs": [
    {
     "data": {
      "text/plain": [
       "np.float64(0.7179226124124469)"
      ]
     },
     "execution_count": 96,
     "metadata": {},
     "output_type": "execute_result"
    }
   ],
   "source": [
    "cc_coeff('ForAgeCalc.xlsx', 'Gilder GS-11', 'PB', 0.08, 0, 3000, 500)"
   ]
  },
  {
   "cell_type": "code",
   "execution_count": 97,
   "id": "c1a4e994-fdbb-4220-b307-2eea75459a68",
   "metadata": {},
   "outputs": [
    {
     "data": {
      "text/plain": [
       "np.float64(0.8720890554736798)"
      ]
     },
     "execution_count": 97,
     "metadata": {},
     "output_type": "execute_result"
    }
   ],
   "source": [
    "cc_coeff('ForAgeCalc.xlsx', 'Gilder GS-11', 'FL3', 0.08, 0, 3000, 500)"
   ]
  },
  {
   "cell_type": "code",
   "execution_count": 98,
   "id": "c7cf769b-759a-4cac-91a7-7303cc2ebb59",
   "metadata": {},
   "outputs": [
    {
     "data": {
      "text/plain": [
       "np.float64(0.7294605870430778)"
      ]
     },
     "execution_count": 98,
     "metadata": {},
     "output_type": "execute_result"
    }
   ],
   "source": [
    "cc_coeff('ForAgeCalc.xlsx', 'RNHW', 'RNHE', 0.08, 0, 3000, 500)"
   ]
  },
  {
   "cell_type": "code",
   "execution_count": 99,
   "id": "fb3217be-553a-4b2a-9abc-527b632d12d3",
   "metadata": {},
   "outputs": [
    {
     "data": {
      "text/plain": [
       "np.float64(0.5877984265186234)"
      ]
     },
     "execution_count": 99,
     "metadata": {},
     "output_type": "execute_result"
    }
   ],
   "source": [
    "cc_coeff('ForAgeCalc.xlsx', 'RNHW', 'NY14-TAP-22', 0.08, 0, 3000, 500)"
   ]
  },
  {
   "cell_type": "code",
   "execution_count": 100,
   "id": "655b883e-ebd0-447f-a472-f3a61e982fa5",
   "metadata": {},
   "outputs": [
    {
     "data": {
      "text/plain": [
       "np.float64(0.6006489628558329)"
      ]
     },
     "execution_count": 100,
     "metadata": {},
     "output_type": "execute_result"
    }
   ],
   "source": [
    "cc_coeff('ForAgeCalc.xlsx', 'RNHW', 'E79', 0.08, 0, 3000, 500)"
   ]
  },
  {
   "cell_type": "code",
   "execution_count": 101,
   "id": "0fab251e-6e6a-47e5-9dba-ed17dfdfb2b2",
   "metadata": {},
   "outputs": [
    {
     "data": {
      "text/plain": [
       "np.float64(0.8295846320671033)"
      ]
     },
     "execution_count": 101,
     "metadata": {},
     "output_type": "execute_result"
    }
   ],
   "source": [
    "cc_coeff('ForAgeCalc.xlsx', 'RNHW', 'PB', 0.08, 0, 3000, 500)"
   ]
  },
  {
   "cell_type": "code",
   "execution_count": 102,
   "id": "fc1f2f0f-aba9-4bb7-9d5d-91c2a5f1722f",
   "metadata": {},
   "outputs": [
    {
     "data": {
      "text/plain": [
       "np.float64(0.9118863237292198)"
      ]
     },
     "execution_count": 102,
     "metadata": {},
     "output_type": "execute_result"
    }
   ],
   "source": [
    "cc_coeff('ForAgeCalc.xlsx', 'RNHW', 'FL3', 0.08, 0, 3000, 500)"
   ]
  },
  {
   "cell_type": "code",
   "execution_count": 103,
   "id": "5b171167-a846-4a05-9c3c-ac652b862ab9",
   "metadata": {},
   "outputs": [
    {
     "data": {
      "text/plain": [
       "np.float64(0.3465735955771297)"
      ]
     },
     "execution_count": 103,
     "metadata": {},
     "output_type": "execute_result"
    }
   ],
   "source": [
    "cc_coeff('ForAgeCalc.xlsx', 'RNHE', 'NY14-TAP-22', 0.08, 0, 3000, 500)"
   ]
  },
  {
   "cell_type": "code",
   "execution_count": 104,
   "id": "29b61085-0649-4509-b6f1-17339b8b6753",
   "metadata": {},
   "outputs": [
    {
     "data": {
      "text/plain": [
       "np.float64(0.7678304389198257)"
      ]
     },
     "execution_count": 104,
     "metadata": {},
     "output_type": "execute_result"
    }
   ],
   "source": [
    "cc_coeff('ForAgeCalc.xlsx', 'RNHE', 'E79', 0.08, 0, 3000, 500)"
   ]
  },
  {
   "cell_type": "code",
   "execution_count": 105,
   "id": "cbaf5b40-b36a-4209-8226-1ef68405ca92",
   "metadata": {},
   "outputs": [
    {
     "data": {
      "text/plain": [
       "np.float64(0.6174055282957762)"
      ]
     },
     "execution_count": 105,
     "metadata": {},
     "output_type": "execute_result"
    }
   ],
   "source": [
    "cc_coeff('ForAgeCalc.xlsx', 'RNHE', 'PB', 0.08, 0, 3000, 500)"
   ]
  },
  {
   "cell_type": "code",
   "execution_count": 106,
   "id": "11391e8c-cc4f-48f1-97b4-561da56e18ec",
   "metadata": {},
   "outputs": [
    {
     "data": {
      "text/plain": [
       "np.float64(0.693005801473963)"
      ]
     },
     "execution_count": 106,
     "metadata": {},
     "output_type": "execute_result"
    }
   ],
   "source": [
    "cc_coeff('ForAgeCalc.xlsx', 'RNHE', 'FL3', 0.08, 0, 3000, 500)"
   ]
  },
  {
   "cell_type": "code",
   "execution_count": 107,
   "id": "66df0f4f-f95c-4dd8-ac1e-08b86e5e59fd",
   "metadata": {},
   "outputs": [
    {
     "data": {
      "text/plain": [
       "np.float64(0.31131606992000194)"
      ]
     },
     "execution_count": 107,
     "metadata": {},
     "output_type": "execute_result"
    }
   ],
   "source": [
    "cc_coeff('ForAgeCalc.xlsx', 'NY14-TAP-22', 'E79', 0.08, 0, 3000, 500)"
   ]
  },
  {
   "cell_type": "code",
   "execution_count": 86,
   "id": "2e093d4e-b8c0-44e3-be9e-dbb97431962b",
   "metadata": {},
   "outputs": [
    {
     "data": {
      "text/plain": [
       "np.float64(0.5777803667282305)"
      ]
     },
     "execution_count": 86,
     "metadata": {},
     "output_type": "execute_result"
    }
   ],
   "source": [
    "cc_coeff('ForAgeCalc.xlsx', 'NY14-TAP-22', 'PB', 0.08, 0, 3000, 500)"
   ]
  },
  {
   "cell_type": "code",
   "execution_count": 87,
   "id": "b73ed7f1-c263-4774-be86-2c31c32ced59",
   "metadata": {},
   "outputs": [
    {
     "data": {
      "text/plain": [
       "np.float64(0.6210914996496718)"
      ]
     },
     "execution_count": 87,
     "metadata": {},
     "output_type": "execute_result"
    }
   ],
   "source": [
    "cc_coeff('ForAgeCalc.xlsx', 'NY14-TAP-22', 'FL3', 0.08, 0, 3000, 500)"
   ]
  },
  {
   "cell_type": "code",
   "execution_count": 88,
   "id": "2f403c69-f7fc-4405-861a-9f2878603c13",
   "metadata": {},
   "outputs": [
    {
     "data": {
      "text/plain": [
       "np.float64(0.5757553164545933)"
      ]
     },
     "execution_count": 88,
     "metadata": {},
     "output_type": "execute_result"
    }
   ],
   "source": [
    "cc_coeff('ForAgeCalc.xlsx', 'E79', 'PB', 0.08, 0, 3000, 500)"
   ]
  },
  {
   "cell_type": "code",
   "execution_count": 89,
   "id": "a5d409d3-77ed-400d-a110-6d149a16d444",
   "metadata": {},
   "outputs": [
    {
     "data": {
      "text/plain": [
       "np.float64(0.5948811754519838)"
      ]
     },
     "execution_count": 89,
     "metadata": {},
     "output_type": "execute_result"
    }
   ],
   "source": [
    "cc_coeff('ForAgeCalc.xlsx', 'E79', 'FL3', 0.08, 0, 3000, 500)"
   ]
  },
  {
   "cell_type": "code",
   "execution_count": 90,
   "id": "2c4717c2-26c0-4d4d-b722-fdffaef781eb",
   "metadata": {},
   "outputs": [
    {
     "data": {
      "text/plain": [
       "np.float64(0.787990798213025)"
      ]
     },
     "execution_count": 90,
     "metadata": {},
     "output_type": "execute_result"
    }
   ],
   "source": [
    "cc_coeff('ForAgeCalc.xlsx', 'PB', 'FL3', 0.08, 0, 3000, 500)"
   ]
  },
  {
   "cell_type": "code",
   "execution_count": null,
   "id": "597ea80f-37bc-4b42-b849-4cb825c87a29",
   "metadata": {},
   "outputs": [],
   "source": []
  }
 ],
 "metadata": {
  "kernelspec": {
   "display_name": "Python 3 (ipykernel)",
   "language": "python",
   "name": "python3"
  },
  "language_info": {
   "codemirror_mode": {
    "name": "ipython",
    "version": 3
   },
   "file_extension": ".py",
   "mimetype": "text/x-python",
   "name": "python",
   "nbconvert_exporter": "python",
   "pygments_lexer": "ipython3",
   "version": "3.13.3"
  }
 },
 "nbformat": 4,
 "nbformat_minor": 5
}
