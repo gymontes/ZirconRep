{
 "cells": [
  {
   "cell_type": "code",
   "execution_count": 1,
   "id": "f361a13e-5b8e-4d8f-9703-e1feb17f8ba7",
   "metadata": {},
   "outputs": [],
   "source": [
    "from scipy import stats\n",
    "from scipy.stats import gaussian_kde\n",
    "from scipy import signal\n",
    "from scipy.signal import correlate\n",
    "import numpy as np\n",
    "import matplotlib.pyplot as plt\n",
    "import pandas as pd\n",
    "import seaborn as sns"
   ]
  },
  {
   "cell_type": "code",
   "execution_count": 2,
   "id": "ee9262fc-dd3b-48a9-b92c-859af043e19e",
   "metadata": {},
   "outputs": [],
   "source": [
    "def cross_corr_coefficient(file_name, col_name1, col_name2, bw, lower, upper, nums):\n",
    "    df = pd.read_excel(file_name)\n",
    "    data1 = df[col_name1].dropna()\n",
    "    data2 = df[col_name2].dropna()\n",
    "    x_vals = np.linspace(min(data1.min(), data2.min()) - 1, max(data1.max(), data2.max()) + 1, nums)\n",
    "    cross_corr = signal.correlate(data1, data2, mode='full')\n",
    "    norm_factor = np.sqrt(np.sum(np.abs(data1)**2) * np.sum(np.abs(data2)**2))\n",
    "    norm_cross_corr = cross_corr/norm_factor\n",
    "    r = max(norm_cross_corr)\n",
    "    return r**2"
   ]
  },
  {
   "cell_type": "code",
   "execution_count": null,
   "id": "a86d6ded-8170-4195-adec-e6865d2191fe",
   "metadata": {},
   "outputs": [],
   "source": []
  }
 ],
 "metadata": {
  "kernelspec": {
   "display_name": "Python 3 (ipykernel)",
   "language": "python",
   "name": "python3"
  },
  "language_info": {
   "codemirror_mode": {
    "name": "ipython",
    "version": 3
   },
   "file_extension": ".py",
   "mimetype": "text/x-python",
   "name": "python",
   "nbconvert_exporter": "python",
   "pygments_lexer": "ipython3",
   "version": "3.13.3"
  }
 },
 "nbformat": 4,
 "nbformat_minor": 5
}
