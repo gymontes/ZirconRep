{
 "cells": [
  {
   "cell_type": "code",
   "execution_count": 7,
   "id": "60bb5a11-fc63-4f2d-b968-313d5f2a5b97",
   "metadata": {},
   "outputs": [
    {
     "name": "stdout",
     "output_type": "stream",
     "text": [
      "Requirement already satisfied: statistics in /Library/Frameworks/Python.framework/Versions/3.13/lib/python3.13/site-packages (1.0.3.5)\n",
      "Requirement already satisfied: docutils>=0.3 in /Library/Frameworks/Python.framework/Versions/3.13/lib/python3.13/site-packages (from statistics) (0.21.2)\n"
     ]
    }
   ],
   "source": [
    "!pip install statistics"
   ]
  },
  {
   "cell_type": "code",
   "execution_count": 8,
   "id": "52844762-43e9-4ad3-b8cf-43d552cc431b",
   "metadata": {},
   "outputs": [],
   "source": [
    "# Converting DZStats by Kurt Sundell into a Python program"
   ]
  },
  {
   "cell_type": "code",
   "execution_count": 35,
   "id": "551883dc-70c7-4461-8d04-af4e7c5883a5",
   "metadata": {},
   "outputs": [
    {
     "data": {
      "text/plain": [
       "KstestResult(statistic=np.float64(0.2552521008403361), pvalue=np.float64(0.0009139165933278022), statistic_location=np.float64(1061.0), statistic_sign=np.int8(-1))"
      ]
     },
     "execution_count": 35,
     "metadata": {},
     "output_type": "execute_result"
    }
   ],
   "source": [
    "# Kolmogorov-Smirnov Test Code\n",
    "import numpy as np\n",
    "from scipy import stats\n",
    "\n",
    "df = pd.read_excel('ForAgeCalc.xlsx')\n",
    "data1 = df['RNHW'].dropna().to_numpy()\n",
    "data2 = df['RNHE'].dropna().to_numpy()\n",
    "\n",
    "stats.ks_2samp(data1, data2, nan_policy='omit')"
   ]
  },
  {
   "cell_type": "code",
   "execution_count": 30,
   "id": "cb5b9164-5368-4f28-bcea-82e565462c75",
   "metadata": {},
   "outputs": [
    {
     "data": {
      "text/plain": [
       "KstestResult(statistic=np.float64(0.06886694386694386), pvalue=np.float64(0.9092391643909453), statistic_location=np.float64(1093.01), statistic_sign=np.int8(-1))"
      ]
     },
     "execution_count": 30,
     "metadata": {},
     "output_type": "execute_result"
    }
   ],
   "source": [
    "df = pd.read_excel('ForAgeCalc.xlsx')\n",
    "data3 = df['PB'].to_numpy()\n",
    "data4 = df['FL3'].to_numpy()\n",
    "\n",
    "stats.ks_2samp(data3, data4, alternative='two-sided', nan_policy='omit')"
   ]
  },
  {
   "cell_type": "code",
   "execution_count": 39,
   "id": "64e0a276-835c-402c-9c14-002c9e1fd717",
   "metadata": {},
   "outputs": [
    {
     "data": {
      "text/plain": [
       "KstestResult(statistic=np.float64(0.4356299212598425), pvalue=np.float64(4.356451974239638e-11), statistic_location=np.float64(1000.0), statistic_sign=np.int8(1))"
      ]
     },
     "execution_count": 39,
     "metadata": {},
     "output_type": "execute_result"
    }
   ],
   "source": [
    "df = pd.read_excel('ForAgeCalc.xlsx')\n",
    "data5 = df['E79'].to_numpy()\n",
    "data6 = df['NY14-TAP-22'].to_numpy()\n",
    "\n",
    "stats.ks_2samp(data5, data6, alternative='two-sided', nan_policy='omit')"
   ]
  },
  {
   "cell_type": "code",
   "execution_count": 46,
   "id": "284fb815-fa15-4e9c-bac2-225ef4218333",
   "metadata": {},
   "outputs": [],
   "source": [
    "# Kolmogorov-Smirnov Test Function\n",
    "def ks_test(file_name, col_name1, col_name2):\n",
    "    df = pd.read_excel(file_name)\n",
    "    data1 = df[col_name1].to_numpy()\n",
    "    data2 = df[col_name2].to_numpy()\n",
    "    return stats.ks_2samp(data1, data2, alternative='two-sided', nan_policy='omit')"
   ]
  },
  {
   "cell_type": "code",
   "execution_count": 47,
   "id": "07b4e673-f9a9-4666-9c85-3557d72dfa6a",
   "metadata": {},
   "outputs": [
    {
     "data": {
      "text/plain": [
       "KstestResult(statistic=np.float64(0.06886694386694386), pvalue=np.float64(0.9092391643909453), statistic_location=np.float64(1093.01), statistic_sign=np.int8(-1))"
      ]
     },
     "execution_count": 47,
     "metadata": {},
     "output_type": "execute_result"
    }
   ],
   "source": [
    "ks_test('ForAgeCalc.xlsx', 'PB', 'FL3')"
   ]
  },
  {
   "cell_type": "code",
   "execution_count": null,
   "id": "b062588a-29fc-4909-a9e7-f404db32db3e",
   "metadata": {},
   "outputs": [],
   "source": [
    "# Kuiper Test Code"
   ]
  },
  {
   "cell_type": "code",
   "execution_count": null,
   "id": "5ffaa527-12f1-4926-981a-0ea7d8a0df1f",
   "metadata": {},
   "outputs": [],
   "source": [
    "# Kuiper Test Function"
   ]
  }
 ],
 "metadata": {
  "kernelspec": {
   "display_name": "Python 3 (ipykernel)",
   "language": "python",
   "name": "python3"
  },
  "language_info": {
   "codemirror_mode": {
    "name": "ipython",
    "version": 3
   },
   "file_extension": ".py",
   "mimetype": "text/x-python",
   "name": "python",
   "nbconvert_exporter": "python",
   "pygments_lexer": "ipython3",
   "version": "3.13.3"
  }
 },
 "nbformat": 4,
 "nbformat_minor": 5
}
