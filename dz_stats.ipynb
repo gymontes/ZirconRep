{
 "cells": [
  {
   "cell_type": "code",
   "execution_count": 89,
   "id": "60bb5a11-fc63-4f2d-b968-313d5f2a5b97",
   "metadata": {},
   "outputs": [
    {
     "name": "stdout",
     "output_type": "stream",
     "text": [
      "Requirement already satisfied: statistics in /Library/Frameworks/Python.framework/Versions/3.13/lib/python3.13/site-packages (1.0.3.5)\n",
      "Requirement already satisfied: docutils>=0.3 in /Library/Frameworks/Python.framework/Versions/3.13/lib/python3.13/site-packages (from statistics) (0.21.2)\n"
     ]
    }
   ],
   "source": [
    "!pip install statistics"
   ]
  },
  {
   "cell_type": "code",
   "execution_count": 90,
   "id": "2009d4d0-1f3c-4261-ad58-ab65ebb8dae4",
   "metadata": {},
   "outputs": [
    {
     "name": "stdout",
     "output_type": "stream",
     "text": [
      "Requirement already satisfied: astropy in /Library/Frameworks/Python.framework/Versions/3.13/lib/python3.13/site-packages (7.1.0)\n",
      "Requirement already satisfied: numpy>=1.23.2 in /Library/Frameworks/Python.framework/Versions/3.13/lib/python3.13/site-packages (from astropy) (2.2.6)\n",
      "Requirement already satisfied: pyerfa>=2.0.1.1 in /Library/Frameworks/Python.framework/Versions/3.13/lib/python3.13/site-packages (from astropy) (2.0.1.5)\n",
      "Requirement already satisfied: astropy-iers-data>=0.2025.4.28.0.37.27 in /Library/Frameworks/Python.framework/Versions/3.13/lib/python3.13/site-packages (from astropy) (0.2025.6.9.14.9.37)\n",
      "Requirement already satisfied: PyYAML>=6.0.0 in /Library/Frameworks/Python.framework/Versions/3.13/lib/python3.13/site-packages (from astropy) (6.0.2)\n",
      "Requirement already satisfied: packaging>=22.0.0 in /Library/Frameworks/Python.framework/Versions/3.13/lib/python3.13/site-packages (from astropy) (25.0)\n"
     ]
    }
   ],
   "source": [
    "!pip install astropy"
   ]
  },
  {
   "cell_type": "code",
   "execution_count": 91,
   "id": "52844762-43e9-4ad3-b8cf-43d552cc431b",
   "metadata": {},
   "outputs": [],
   "source": [
    "# Converting DZStats by Kurt Sundell into a Python program"
   ]
  },
  {
   "cell_type": "code",
   "execution_count": 92,
   "id": "551883dc-70c7-4461-8d04-af4e7c5883a5",
   "metadata": {},
   "outputs": [
    {
     "data": {
      "text/plain": [
       "KstestResult(statistic=np.float64(0.1524876305662452), pvalue=np.float64(0.10830244926279575), statistic_location=np.float64(1218.0), statistic_sign=np.int8(1))"
      ]
     },
     "execution_count": 92,
     "metadata": {},
     "output_type": "execute_result"
    }
   ],
   "source": [
    "# Kolmogorov-Smirnov Test Code\n",
    "import numpy as np\n",
    "from scipy import stats\n",
    "\n",
    "df = pd.read_excel('ForAgeCalc.xlsx')\n",
    "data1 = df['RNHW'].dropna().to_numpy()\n",
    "data2 = df['Gilder GS-11'].dropna().to_numpy()\n",
    "\n",
    "stats.ks_2samp(data1, data2, nan_policy='omit')"
   ]
  },
  {
   "cell_type": "code",
   "execution_count": 93,
   "id": "cb5b9164-5368-4f28-bcea-82e565462c75",
   "metadata": {},
   "outputs": [
    {
     "data": {
      "text/plain": [
       "KstestResult(statistic=np.float64(0.06886694386694386), pvalue=np.float64(0.9092391643909453), statistic_location=np.float64(1093.01), statistic_sign=np.int8(-1))"
      ]
     },
     "execution_count": 93,
     "metadata": {},
     "output_type": "execute_result"
    }
   ],
   "source": [
    "df = pd.read_excel('ForAgeCalc.xlsx')\n",
    "data3 = df['PB'].to_numpy()\n",
    "data4 = df['FL3'].to_numpy()\n",
    "\n",
    "stats.ks_2samp(data3, data4, alternative='two-sided', nan_policy='omit')"
   ]
  },
  {
   "cell_type": "code",
   "execution_count": 94,
   "id": "64e0a276-835c-402c-9c14-002c9e1fd717",
   "metadata": {},
   "outputs": [
    {
     "data": {
      "text/plain": [
       "KstestResult(statistic=np.float64(0.4356299212598425), pvalue=np.float64(4.356451974239638e-11), statistic_location=np.float64(1000.0), statistic_sign=np.int8(1))"
      ]
     },
     "execution_count": 94,
     "metadata": {},
     "output_type": "execute_result"
    }
   ],
   "source": [
    "df = pd.read_excel('ForAgeCalc.xlsx')\n",
    "data5 = df['E79'].to_numpy()\n",
    "data6 = df['NY14-TAP-22'].to_numpy()\n",
    "\n",
    "stats.ks_2samp(data5, data6, alternative='two-sided', nan_policy='omit')"
   ]
  },
  {
   "cell_type": "code",
   "execution_count": 95,
   "id": "284fb815-fa15-4e9c-bac2-225ef4218333",
   "metadata": {},
   "outputs": [],
   "source": [
    "# Kolmogorov-Smirnov Test Function\n",
    "def ks_test(file_name, col_name1, col_name2):\n",
    "    df = pd.read_excel(file_name)\n",
    "    data1 = df[col_name1].to_numpy()\n",
    "    data2 = df[col_name2].to_numpy()\n",
    "    return stats.ks_2samp(data1, data2, alternative='two-sided', nan_policy='omit')"
   ]
  },
  {
   "cell_type": "code",
   "execution_count": 96,
   "id": "07b4e673-f9a9-4666-9c85-3557d72dfa6a",
   "metadata": {},
   "outputs": [
    {
     "data": {
      "text/plain": [
       "KstestResult(statistic=np.float64(0.06886694386694386), pvalue=np.float64(0.9092391643909453), statistic_location=np.float64(1093.01), statistic_sign=np.int8(-1))"
      ]
     },
     "execution_count": 96,
     "metadata": {},
     "output_type": "execute_result"
    }
   ],
   "source": [
    "ks_test('ForAgeCalc.xlsx', 'PB', 'FL3')"
   ]
  },
  {
   "cell_type": "code",
   "execution_count": 97,
   "id": "b062588a-29fc-4909-a9e7-f404db32db3e",
   "metadata": {},
   "outputs": [
    {
     "data": {
      "text/plain": [
       "(0.2797118847539016, np.float64(0.003042951016084474))"
      ]
     },
     "execution_count": 97,
     "metadata": {},
     "output_type": "execute_result"
    }
   ],
   "source": [
    "# Kuiper Test Code\n",
    "import astropy\n",
    "from astropy import stats\n",
    "from astropy.stats import kuiper_two\n",
    "\n",
    "df = pd.read_excel('ForAgeCalc.xlsx')\n",
    "data7 = df['RNHE'].dropna().to_numpy()\n",
    "data8 = df['RNHW'].dropna().to_numpy()\n",
    "kuiper_two(data7, data8)"
   ]
  },
  {
   "cell_type": "code",
   "execution_count": 98,
   "id": "5049ccc7-0606-4340-92be-e67564191a4e",
   "metadata": {},
   "outputs": [
    {
     "name": "stdout",
     "output_type": "stream",
     "text": [
      "136\n"
     ]
    }
   ],
   "source": [
    "print(len(data8))"
   ]
  },
  {
   "cell_type": "code",
   "execution_count": 99,
   "id": "5ffaa527-12f1-4926-981a-0ea7d8a0df1f",
   "metadata": {},
   "outputs": [],
   "source": [
    "# Kuiper Test Function\n",
    "def kuiper_test(file_name, col_name1, col_name2):\n",
    "    df = pd.read_excel(file_name)\n",
    "    data1 = df[col_name1].dropna().to_numpy()\n",
    "    data2 = df[col_name2].dropna().to_numpy()\n",
    "    return kuiper_two(data1, data2)"
   ]
  },
  {
   "cell_type": "code",
   "execution_count": 100,
   "id": "6e33ad42-ed51-4380-83b1-2128db24a3e3",
   "metadata": {},
   "outputs": [
    {
     "data": {
      "text/plain": [
       "(0.1288981288981289, np.float64(0.7596953736522171))"
      ]
     },
     "execution_count": 100,
     "metadata": {},
     "output_type": "execute_result"
    }
   ],
   "source": [
    "kuiper_test('ForAgeCalc.xlsx', 'PB', 'FL3')"
   ]
  },
  {
   "cell_type": "code",
   "execution_count": 101,
   "id": "a739a9ff-fa9b-4a18-9b8d-48007805f8cd",
   "metadata": {},
   "outputs": [
    {
     "data": {
      "text/plain": [
       "(0.17255360087960417, np.float64(0.29292275294596803))"
      ]
     },
     "execution_count": 101,
     "metadata": {},
     "output_type": "execute_result"
    }
   ],
   "source": [
    "kuiper_test('ForAgeCalc.xlsx', 'RNHW', 'Gilder GS-11')"
   ]
  },
  {
   "cell_type": "code",
   "execution_count": 102,
   "id": "87a8b68a-4e20-4017-8499-9c36fd2e4b67",
   "metadata": {},
   "outputs": [
    {
     "data": {
      "text/plain": [
       "(0.4439632545931735, np.float64(1.127755151380478e-09))"
      ]
     },
     "execution_count": 102,
     "metadata": {},
     "output_type": "execute_result"
    }
   ],
   "source": [
    "kuiper_test('ForAgeCalc.xlsx', 'E79', 'NY14-TAP-22')"
   ]
  },
  {
   "cell_type": "code",
   "execution_count": 103,
   "id": "cb642980-8976-49db-9355-0cfb7140174e",
   "metadata": {},
   "outputs": [],
   "source": [
    "import numpy as np\n",
    "from numpy import copy, sort, amax, arange, exp, sqrt, abs, floor, searchsorted\n",
    "import itertools\n",
    "\n",
    "def kuiper_FPP(D,N):\n",
    "    \"\"\"Compute the false positive probability for the Kuiper statistic.\n",
    "\n",
    "    Uses the set of four formulas described in Paltani 2004; they report \n",
    "    the resulting function never underestimates the false positive probability \n",
    "    but can be a bit high in the N=40..50 range. (They quote a factor 1.5 at \n",
    "    the 1e-7 level.\n",
    "\n",
    "    Parameters\n",
    "    ----------\n",
    "    D : float\n",
    "        The Kuiper test score.\n",
    "    N : float\n",
    "        The effective sample size.\n",
    "\n",
    "    Returns\n",
    "    -------\n",
    "    fpp : float\n",
    "        The probability of a score this large arising from the null hypothesis.\n",
    "\n",
    "    Reference\n",
    "    ---------\n",
    "    Paltani, S., \"Searching for periods in X-ray observations using \n",
    "    Kuiper's test. Application to the ROSAT PSPC archive\", Astronomy and\n",
    "    Astrophysics, v.240, p.789-790, 2004.\n",
    "\n",
    "    \"\"\"\n",
    "    if D<0. or D>2.:\n",
    "        raise ValueError(\"Must have 0<=D<=2 by definition of the Kuiper test\")\n",
    "\n",
    "    if D<2./N:\n",
    "        return 1. - factorial(N)*(D-1./N)**(N-1)\n",
    "    elif D<3./N:\n",
    "        k = -(N*D-1.)/2.\n",
    "        r = sqrt(k**2 - (N*D-2.)/2.)\n",
    "        a, b = -k+r, -k-r\n",
    "        return 1. - factorial(N-1)*(b**(N-1.)*(1.-a)-a**(N-1.)*(1.-b))/float(N)**(N-2)*(b-a)\n",
    "    elif (D>0.5 and N%2==0) or (D>(N-1.)/(2.*N) and N%2==1):\n",
    "        def T(t):\n",
    "            y = D+t/float(N)\n",
    "            return y**(t-3)*(y**3*N-y**2*t*(3.-2./N)/N-t*(t-1)*(t-2)/float(N)**2)\n",
    "        s = 0.\n",
    "        # NOTE: the upper limit of this sum is taken from Stephens 1965\n",
    "        for t in xrange(int(floor(N*(1-D)))+1):\n",
    "            term = T(t)*comb(N,t)*(1-D-t/float(N))**(N-t-1)\n",
    "            s += term\n",
    "        return s\n",
    "    else:\n",
    "        z = D*sqrt(N) \n",
    "        S1 = 0.\n",
    "        term_eps = 1e-12\n",
    "        abs_eps = 1e-100\n",
    "        for m in itertools.count(1):\n",
    "            T1 = 2.*(4.*m**2*z**2-1.)*exp(-2.*m**2*z**2)\n",
    "            so = S1\n",
    "            S1 += T1\n",
    "            if abs(S1-so)/(abs(S1)+abs(so))<term_eps or abs(S1-so)<abs_eps:\n",
    "                break\n",
    "        S2 = 0.\n",
    "        for m in itertools.count(1):\n",
    "            T2 = m**2*(4.*m**2*z**2-3.)*exp(-2*m**2*z**2)\n",
    "            so = S2\n",
    "            S2 += T2\n",
    "            if abs(S2-so)/(abs(S2)+abs(so))<term_eps or abs(S1-so)<abs_eps:\n",
    "                break\n",
    "        return S1 - 8*D/(3.*sqrt(N))*S2"
   ]
  },
  {
   "cell_type": "code",
   "execution_count": 108,
   "id": "82f4a277-ac4c-441d-86a9-add17b69479f",
   "metadata": {},
   "outputs": [],
   "source": [
    "def kuiper_dos(data1, data2):\n",
    "    \"\"\"Compute the Kuiper statistic to compare two samples.\n",
    "\n",
    "    Parameters\n",
    "    ----------\n",
    "    data1 : array-like\n",
    "        The first set of data values.\n",
    "    data2 : array-like\n",
    "        The second set of data values.\n",
    "    \n",
    "    Returns\n",
    "    -------\n",
    "    D : float\n",
    "        The raw test statistic.\n",
    "    fpp : float\n",
    "        The probability of obtaining two samples this different from\n",
    "        the same distribution.\n",
    "\n",
    "    Notes\n",
    "    -----\n",
    "    Warning: the fpp is quite approximate, especially for small samples.\n",
    "\n",
    "    \"\"\"\n",
    "    data1, data2 = sort(data1), sort(data2)\n",
    "\n",
    "    if len(data2)<len(data1):\n",
    "        data1, data2 = data2, data1\n",
    "\n",
    "    cdfv1 = searchsorted(data2, data1)/float(len(data2)) # this could be more efficient\n",
    "    cdfv2 = searchsorted(data1, data2)/float(len(data1)) # this could be more efficient\n",
    "    D = (amax(cdfv1-arange(len(data1))/float(len(data1))) + \n",
    "            amax(cdfv2-arange(len(data2))/float(len(data2))))\n",
    "\n",
    "    Ne = len(data1)*len(data2)/float(len(data1)+len(data2))\n",
    "    return D, kuiper_FPP(D, Ne)"
   ]
  },
  {
   "cell_type": "code",
   "execution_count": 114,
   "id": "933f1236-7396-4873-b701-4f334db5fdaa",
   "metadata": {},
   "outputs": [],
   "source": [
    "df = pd.read_excel('ForAgeCalc.xlsx')\n",
    "data_one = df['RNHW'].dropna().to_numpy()\n",
    "data_two = df['RNHE'].dropna().to_numpy()"
   ]
  },
  {
   "cell_type": "code",
   "execution_count": 113,
   "id": "fa2962bf-c468-4ebd-a9cd-9abb65e43b4b",
   "metadata": {},
   "outputs": [
    {
     "data": {
      "text/plain": [
       "(np.float64(0.2797118847539015), np.float64(0.00433500859876872))"
      ]
     },
     "execution_count": 113,
     "metadata": {},
     "output_type": "execute_result"
    }
   ],
   "source": [
    "kuiper_dos(data_one, data_two)"
   ]
  }
 ],
 "metadata": {
  "kernelspec": {
   "display_name": "Python 3 (ipykernel)",
   "language": "python",
   "name": "python3"
  },
  "language_info": {
   "codemirror_mode": {
    "name": "ipython",
    "version": 3
   },
   "file_extension": ".py",
   "mimetype": "text/x-python",
   "name": "python",
   "nbconvert_exporter": "python",
   "pygments_lexer": "ipython3",
   "version": "3.13.3"
  }
 },
 "nbformat": 4,
 "nbformat_minor": 5
}
