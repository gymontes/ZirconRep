{
 "cells": [
  {
   "cell_type": "code",
   "execution_count": 11,
   "id": "7521d755-55e3-4cc5-80da-62e441a6f90f",
   "metadata": {},
   "outputs": [
    {
     "name": "stdout",
     "output_type": "stream",
     "text": [
      "Requirement already satisfied: tk in /Library/Frameworks/Python.framework/Versions/3.13/lib/python3.13/site-packages (0.1.0)\n"
     ]
    }
   ],
   "source": [
    "!pip install tk"
   ]
  },
  {
   "cell_type": "code",
   "execution_count": 14,
   "id": "8f666abc-b5fc-42b9-b3ee-6e512b08af44",
   "metadata": {},
   "outputs": [],
   "source": [
    "import numpy as np\n",
    "import matplotlib.pyplot as plt\n",
    "from tkinter import *\n",
    "\n",
    "# create root window\n",
    "root = Tk()\n",
    "# root window title and dimension\n",
    "root.title(\"Zircon Calculations\")\n",
    "# Set geometry(widthxheight)\n",
    "root.geometry('1000x600')\n",
    "\n",
    "# adding a label to the root window\n",
    "lbl = Label(root, text = \"Want to perform zircon calculations?\")\n",
    "lbl.grid()\n",
    "\n",
    "# function to display text when button is clicked\n",
    "def clicked():\n",
    "    lbl.configure(text = \"I just got clicked!\")\n",
    "\n",
    "# button widget with red color text inside\n",
    "btn = Button(root, text = \"Click me!\" ,\n",
    "             fg = \"red\", command=clicked)\n",
    "# set Button grid\n",
    "btn.grid(column=1, row=0)\n",
    "\n",
    "# Execute Tkinter\n",
    "root.mainloop()"
   ]
  },
  {
   "cell_type": "code",
   "execution_count": null,
   "id": "72be46a8-3dd8-455e-9f0e-333122048576",
   "metadata": {},
   "outputs": [],
   "source": []
  },
  {
   "cell_type": "code",
   "execution_count": null,
   "id": "a2e2c124-2fe6-48ff-9279-99a5b4577bcd",
   "metadata": {},
   "outputs": [],
   "source": []
  }
 ],
 "metadata": {
  "kernelspec": {
   "display_name": "Python 3 (ipykernel)",
   "language": "python",
   "name": "python3"
  },
  "language_info": {
   "codemirror_mode": {
    "name": "ipython",
    "version": 3
   },
   "file_extension": ".py",
   "mimetype": "text/x-python",
   "name": "python",
   "nbconvert_exporter": "python",
   "pygments_lexer": "ipython3",
   "version": "3.13.3"
  }
 },
 "nbformat": 4,
 "nbformat_minor": 5
}
